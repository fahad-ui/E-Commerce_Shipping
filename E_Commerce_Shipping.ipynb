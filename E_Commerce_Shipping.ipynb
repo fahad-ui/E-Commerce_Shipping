{
  "nbformat": 4,
  "nbformat_minor": 0,
  "metadata": {
    "colab": {
      "name": "E-Commerce_Shipping.ipynb",
      "provenance": [],
      "collapsed_sections": []
    },
    "kernelspec": {
      "name": "python3",
      "display_name": "Python 3"
    },
    "language_info": {
      "name": "python"
    }
  },
  "cells": [
    {
      "cell_type": "code",
      "metadata": {
        "colab": {
          "resources": {
            "http://localhost:8080/nbextensions/google.colab/files.js": {
              "data": "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",
              "ok": true,
              "headers": [
                [
                  "content-type",
                  "application/javascript"
                ]
              ],
              "status": 200,
              "status_text": ""
            }
          },
          "base_uri": "https://localhost:8080/",
          "height": 73
        },
        "id": "zGY-voQwTRP3",
        "outputId": "233adfd1-5e13-4cb2-d84b-d0ae2b912e05"
      },
      "source": [
        "from google.colab import files\n",
        "files1 = files.upload()"
      ],
      "execution_count": 289,
      "outputs": [
        {
          "output_type": "display_data",
          "data": {
            "text/html": [
              "\n",
              "     <input type=\"file\" id=\"files-14fe2802-c9f1-4b11-aea7-0103b5519c10\" name=\"files[]\" multiple disabled\n",
              "        style=\"border:none\" />\n",
              "     <output id=\"result-14fe2802-c9f1-4b11-aea7-0103b5519c10\">\n",
              "      Upload widget is only available when the cell has been executed in the\n",
              "      current browser session. Please rerun this cell to enable.\n",
              "      </output>\n",
              "      <script src=\"/nbextensions/google.colab/files.js\"></script> "
            ],
            "text/plain": [
              "<IPython.core.display.HTML object>"
            ]
          },
          "metadata": {
            "tags": []
          }
        },
        {
          "output_type": "stream",
          "text": [
            "Saving E-Commerce.csv to E-Commerce (2).csv\n"
          ],
          "name": "stdout"
        }
      ]
    },
    {
      "cell_type": "code",
      "metadata": {
        "id": "EewKaepiTkN2"
      },
      "source": [
        "import numpy as np\n",
        "import pandas as pd\n",
        "import matplotlib.pyplot as plt\n",
        "%matplotlib inline\n",
        "import seaborn as sns\n",
        "sns.set()"
      ],
      "execution_count": 290,
      "outputs": []
    },
    {
      "cell_type": "code",
      "metadata": {
        "id": "o0n9PWRvT2ib"
      },
      "source": [
        "df = pd.read_csv('E-Commerce.csv')"
      ],
      "execution_count": 291,
      "outputs": []
    },
    {
      "cell_type": "code",
      "metadata": {
        "colab": {
          "base_uri": "https://localhost:8080/",
          "height": 226
        },
        "id": "-oqBPigyT-NL",
        "outputId": "b3cb564f-4949-494e-b631-6f6f460053da"
      },
      "source": [
        "df.head()"
      ],
      "execution_count": 292,
      "outputs": [
        {
          "output_type": "execute_result",
          "data": {
            "text/html": [
              "<div>\n",
              "<style scoped>\n",
              "    .dataframe tbody tr th:only-of-type {\n",
              "        vertical-align: middle;\n",
              "    }\n",
              "\n",
              "    .dataframe tbody tr th {\n",
              "        vertical-align: top;\n",
              "    }\n",
              "\n",
              "    .dataframe thead th {\n",
              "        text-align: right;\n",
              "    }\n",
              "</style>\n",
              "<table border=\"1\" class=\"dataframe\">\n",
              "  <thead>\n",
              "    <tr style=\"text-align: right;\">\n",
              "      <th></th>\n",
              "      <th>ID</th>\n",
              "      <th>Warehouse_block</th>\n",
              "      <th>Mode_of_Shipment</th>\n",
              "      <th>Customer_care_calls</th>\n",
              "      <th>Customer_rating</th>\n",
              "      <th>Cost_of_the_Product</th>\n",
              "      <th>Prior_purchases</th>\n",
              "      <th>Product_importance</th>\n",
              "      <th>Gender</th>\n",
              "      <th>Discount_offered</th>\n",
              "      <th>Weight_in_gms</th>\n",
              "      <th>Reached.on.Time_Y.N</th>\n",
              "    </tr>\n",
              "  </thead>\n",
              "  <tbody>\n",
              "    <tr>\n",
              "      <th>0</th>\n",
              "      <td>1</td>\n",
              "      <td>D</td>\n",
              "      <td>Flight</td>\n",
              "      <td>4</td>\n",
              "      <td>2</td>\n",
              "      <td>177</td>\n",
              "      <td>3</td>\n",
              "      <td>low</td>\n",
              "      <td>F</td>\n",
              "      <td>44</td>\n",
              "      <td>1233</td>\n",
              "      <td>1</td>\n",
              "    </tr>\n",
              "    <tr>\n",
              "      <th>1</th>\n",
              "      <td>2</td>\n",
              "      <td>F</td>\n",
              "      <td>Flight</td>\n",
              "      <td>4</td>\n",
              "      <td>5</td>\n",
              "      <td>216</td>\n",
              "      <td>2</td>\n",
              "      <td>low</td>\n",
              "      <td>M</td>\n",
              "      <td>59</td>\n",
              "      <td>3088</td>\n",
              "      <td>1</td>\n",
              "    </tr>\n",
              "    <tr>\n",
              "      <th>2</th>\n",
              "      <td>3</td>\n",
              "      <td>A</td>\n",
              "      <td>Flight</td>\n",
              "      <td>2</td>\n",
              "      <td>2</td>\n",
              "      <td>183</td>\n",
              "      <td>4</td>\n",
              "      <td>low</td>\n",
              "      <td>M</td>\n",
              "      <td>48</td>\n",
              "      <td>3374</td>\n",
              "      <td>1</td>\n",
              "    </tr>\n",
              "    <tr>\n",
              "      <th>3</th>\n",
              "      <td>4</td>\n",
              "      <td>B</td>\n",
              "      <td>Flight</td>\n",
              "      <td>3</td>\n",
              "      <td>3</td>\n",
              "      <td>176</td>\n",
              "      <td>4</td>\n",
              "      <td>medium</td>\n",
              "      <td>M</td>\n",
              "      <td>10</td>\n",
              "      <td>1177</td>\n",
              "      <td>1</td>\n",
              "    </tr>\n",
              "    <tr>\n",
              "      <th>4</th>\n",
              "      <td>5</td>\n",
              "      <td>C</td>\n",
              "      <td>Flight</td>\n",
              "      <td>2</td>\n",
              "      <td>2</td>\n",
              "      <td>184</td>\n",
              "      <td>3</td>\n",
              "      <td>medium</td>\n",
              "      <td>F</td>\n",
              "      <td>46</td>\n",
              "      <td>2484</td>\n",
              "      <td>1</td>\n",
              "    </tr>\n",
              "  </tbody>\n",
              "</table>\n",
              "</div>"
            ],
            "text/plain": [
              "   ID Warehouse_block  ... Weight_in_gms  Reached.on.Time_Y.N\n",
              "0   1               D  ...          1233                    1\n",
              "1   2               F  ...          3088                    1\n",
              "2   3               A  ...          3374                    1\n",
              "3   4               B  ...          1177                    1\n",
              "4   5               C  ...          2484                    1\n",
              "\n",
              "[5 rows x 12 columns]"
            ]
          },
          "metadata": {
            "tags": []
          },
          "execution_count": 292
        }
      ]
    },
    {
      "cell_type": "code",
      "metadata": {
        "colab": {
          "base_uri": "https://localhost:8080/"
        },
        "id": "1UHEaqvjT_bB",
        "outputId": "12daf2dc-c44c-46ae-8eab-95d1bb6ab56f"
      },
      "source": [
        "df.info()"
      ],
      "execution_count": 293,
      "outputs": [
        {
          "output_type": "stream",
          "text": [
            "<class 'pandas.core.frame.DataFrame'>\n",
            "RangeIndex: 10999 entries, 0 to 10998\n",
            "Data columns (total 12 columns):\n",
            " #   Column               Non-Null Count  Dtype \n",
            "---  ------               --------------  ----- \n",
            " 0   ID                   10999 non-null  int64 \n",
            " 1   Warehouse_block      10999 non-null  object\n",
            " 2   Mode_of_Shipment     10999 non-null  object\n",
            " 3   Customer_care_calls  10999 non-null  int64 \n",
            " 4   Customer_rating      10999 non-null  int64 \n",
            " 5   Cost_of_the_Product  10999 non-null  int64 \n",
            " 6   Prior_purchases      10999 non-null  int64 \n",
            " 7   Product_importance   10999 non-null  object\n",
            " 8   Gender               10999 non-null  object\n",
            " 9   Discount_offered     10999 non-null  int64 \n",
            " 10  Weight_in_gms        10999 non-null  int64 \n",
            " 11  Reached.on.Time_Y.N  10999 non-null  int64 \n",
            "dtypes: int64(8), object(4)\n",
            "memory usage: 1.0+ MB\n"
          ],
          "name": "stdout"
        }
      ]
    },
    {
      "cell_type": "code",
      "metadata": {
        "colab": {
          "base_uri": "https://localhost:8080/",
          "height": 300
        },
        "id": "7COn80avWfAh",
        "outputId": "a9013f89-42b6-4a90-9a33-ea96c8e13b4e"
      },
      "source": [
        "df.describe()"
      ],
      "execution_count": 294,
      "outputs": [
        {
          "output_type": "execute_result",
          "data": {
            "text/html": [
              "<div>\n",
              "<style scoped>\n",
              "    .dataframe tbody tr th:only-of-type {\n",
              "        vertical-align: middle;\n",
              "    }\n",
              "\n",
              "    .dataframe tbody tr th {\n",
              "        vertical-align: top;\n",
              "    }\n",
              "\n",
              "    .dataframe thead th {\n",
              "        text-align: right;\n",
              "    }\n",
              "</style>\n",
              "<table border=\"1\" class=\"dataframe\">\n",
              "  <thead>\n",
              "    <tr style=\"text-align: right;\">\n",
              "      <th></th>\n",
              "      <th>ID</th>\n",
              "      <th>Customer_care_calls</th>\n",
              "      <th>Customer_rating</th>\n",
              "      <th>Cost_of_the_Product</th>\n",
              "      <th>Prior_purchases</th>\n",
              "      <th>Discount_offered</th>\n",
              "      <th>Weight_in_gms</th>\n",
              "      <th>Reached.on.Time_Y.N</th>\n",
              "    </tr>\n",
              "  </thead>\n",
              "  <tbody>\n",
              "    <tr>\n",
              "      <th>count</th>\n",
              "      <td>10999.00000</td>\n",
              "      <td>10999.000000</td>\n",
              "      <td>10999.000000</td>\n",
              "      <td>10999.000000</td>\n",
              "      <td>10999.000000</td>\n",
              "      <td>10999.000000</td>\n",
              "      <td>10999.000000</td>\n",
              "      <td>10999.000000</td>\n",
              "    </tr>\n",
              "    <tr>\n",
              "      <th>mean</th>\n",
              "      <td>5500.00000</td>\n",
              "      <td>4.054459</td>\n",
              "      <td>2.990545</td>\n",
              "      <td>210.196836</td>\n",
              "      <td>3.567597</td>\n",
              "      <td>13.373216</td>\n",
              "      <td>3634.016729</td>\n",
              "      <td>0.596691</td>\n",
              "    </tr>\n",
              "    <tr>\n",
              "      <th>std</th>\n",
              "      <td>3175.28214</td>\n",
              "      <td>1.141490</td>\n",
              "      <td>1.413603</td>\n",
              "      <td>48.063272</td>\n",
              "      <td>1.522860</td>\n",
              "      <td>16.205527</td>\n",
              "      <td>1635.377251</td>\n",
              "      <td>0.490584</td>\n",
              "    </tr>\n",
              "    <tr>\n",
              "      <th>min</th>\n",
              "      <td>1.00000</td>\n",
              "      <td>2.000000</td>\n",
              "      <td>1.000000</td>\n",
              "      <td>96.000000</td>\n",
              "      <td>2.000000</td>\n",
              "      <td>1.000000</td>\n",
              "      <td>1001.000000</td>\n",
              "      <td>0.000000</td>\n",
              "    </tr>\n",
              "    <tr>\n",
              "      <th>25%</th>\n",
              "      <td>2750.50000</td>\n",
              "      <td>3.000000</td>\n",
              "      <td>2.000000</td>\n",
              "      <td>169.000000</td>\n",
              "      <td>3.000000</td>\n",
              "      <td>4.000000</td>\n",
              "      <td>1839.500000</td>\n",
              "      <td>0.000000</td>\n",
              "    </tr>\n",
              "    <tr>\n",
              "      <th>50%</th>\n",
              "      <td>5500.00000</td>\n",
              "      <td>4.000000</td>\n",
              "      <td>3.000000</td>\n",
              "      <td>214.000000</td>\n",
              "      <td>3.000000</td>\n",
              "      <td>7.000000</td>\n",
              "      <td>4149.000000</td>\n",
              "      <td>1.000000</td>\n",
              "    </tr>\n",
              "    <tr>\n",
              "      <th>75%</th>\n",
              "      <td>8249.50000</td>\n",
              "      <td>5.000000</td>\n",
              "      <td>4.000000</td>\n",
              "      <td>251.000000</td>\n",
              "      <td>4.000000</td>\n",
              "      <td>10.000000</td>\n",
              "      <td>5050.000000</td>\n",
              "      <td>1.000000</td>\n",
              "    </tr>\n",
              "    <tr>\n",
              "      <th>max</th>\n",
              "      <td>10999.00000</td>\n",
              "      <td>7.000000</td>\n",
              "      <td>5.000000</td>\n",
              "      <td>310.000000</td>\n",
              "      <td>10.000000</td>\n",
              "      <td>65.000000</td>\n",
              "      <td>7846.000000</td>\n",
              "      <td>1.000000</td>\n",
              "    </tr>\n",
              "  </tbody>\n",
              "</table>\n",
              "</div>"
            ],
            "text/plain": [
              "                ID  Customer_care_calls  ...  Weight_in_gms  Reached.on.Time_Y.N\n",
              "count  10999.00000         10999.000000  ...   10999.000000         10999.000000\n",
              "mean    5500.00000             4.054459  ...    3634.016729             0.596691\n",
              "std     3175.28214             1.141490  ...    1635.377251             0.490584\n",
              "min        1.00000             2.000000  ...    1001.000000             0.000000\n",
              "25%     2750.50000             3.000000  ...    1839.500000             0.000000\n",
              "50%     5500.00000             4.000000  ...    4149.000000             1.000000\n",
              "75%     8249.50000             5.000000  ...    5050.000000             1.000000\n",
              "max    10999.00000             7.000000  ...    7846.000000             1.000000\n",
              "\n",
              "[8 rows x 8 columns]"
            ]
          },
          "metadata": {
            "tags": []
          },
          "execution_count": 294
        }
      ]
    },
    {
      "cell_type": "code",
      "metadata": {
        "colab": {
          "base_uri": "https://localhost:8080/"
        },
        "id": "fj7Wn2dMWpNm",
        "outputId": "515e55a7-9636-430a-efcf-c02c02abafe9"
      },
      "source": [
        "df.shape"
      ],
      "execution_count": 295,
      "outputs": [
        {
          "output_type": "execute_result",
          "data": {
            "text/plain": [
              "(10999, 12)"
            ]
          },
          "metadata": {
            "tags": []
          },
          "execution_count": 295
        }
      ]
    },
    {
      "cell_type": "code",
      "metadata": {
        "colab": {
          "base_uri": "https://localhost:8080/"
        },
        "id": "4V1yLPYwW5Cj",
        "outputId": "105dc05b-2b67-4404-9dfd-17d8b75739bf"
      },
      "source": [
        "df.nunique()"
      ],
      "execution_count": 296,
      "outputs": [
        {
          "output_type": "execute_result",
          "data": {
            "text/plain": [
              "ID                     10999\n",
              "Warehouse_block            5\n",
              "Mode_of_Shipment           3\n",
              "Customer_care_calls        6\n",
              "Customer_rating            5\n",
              "Cost_of_the_Product      215\n",
              "Prior_purchases            8\n",
              "Product_importance         3\n",
              "Gender                     2\n",
              "Discount_offered          65\n",
              "Weight_in_gms           4034\n",
              "Reached.on.Time_Y.N        2\n",
              "dtype: int64"
            ]
          },
          "metadata": {
            "tags": []
          },
          "execution_count": 296
        }
      ]
    },
    {
      "cell_type": "code",
      "metadata": {
        "colab": {
          "base_uri": "https://localhost:8080/"
        },
        "id": "E6oyR_BuXFzR",
        "outputId": "26d8165b-3570-4b14-e8ab-b55229460179"
      },
      "source": [
        "df['Mode_of_Shipment'].value_counts()"
      ],
      "execution_count": 297,
      "outputs": [
        {
          "output_type": "execute_result",
          "data": {
            "text/plain": [
              "Ship      7462\n",
              "Flight    1777\n",
              "Road      1760\n",
              "Name: Mode_of_Shipment, dtype: int64"
            ]
          },
          "metadata": {
            "tags": []
          },
          "execution_count": 297
        }
      ]
    },
    {
      "cell_type": "code",
      "metadata": {
        "colab": {
          "base_uri": "https://localhost:8080/"
        },
        "id": "867j7pfkXXwI",
        "outputId": "71952cd5-e856-49a5-d508-ed2f043bd6c9"
      },
      "source": [
        "df['Reached.on.Time_Y.N'].value_counts()"
      ],
      "execution_count": 298,
      "outputs": [
        {
          "output_type": "execute_result",
          "data": {
            "text/plain": [
              "1    6563\n",
              "0    4436\n",
              "Name: Reached.on.Time_Y.N, dtype: int64"
            ]
          },
          "metadata": {
            "tags": []
          },
          "execution_count": 298
        }
      ]
    },
    {
      "cell_type": "code",
      "metadata": {
        "colab": {
          "base_uri": "https://localhost:8080/",
          "height": 303
        },
        "id": "I0lqqtz6ZxUb",
        "outputId": "e79e705b-bb88-4953-cdd2-cf9ea00736d9"
      },
      "source": [
        "sns.countplot(x='Customer_care_calls',hue='Gender',data=df)"
      ],
      "execution_count": 299,
      "outputs": [
        {
          "output_type": "execute_result",
          "data": {
            "text/plain": [
              "<matplotlib.axes._subplots.AxesSubplot at 0x7efd05c769d0>"
            ]
          },
          "metadata": {
            "tags": []
          },
          "execution_count": 299
        },
        {
          "output_type": "display_data",
          "data": {
            "image/png": "[encoded data removed]",
            "text/plain": [
              "<Figure size 432x288 with 1 Axes>"
            ]
          },
          "metadata": {
            "tags": []
          }
        }
      ]
    },
    {
      "cell_type": "code",
      "metadata": {
        "colab": {
          "base_uri": "https://localhost:8080/",
          "height": 303
        },
        "id": "xrP5w5DpalWR",
        "outputId": "86499b6c-74d9-47e8-b120-2bfcc217e616"
      },
      "source": [
        "sns.countplot(x='Prior_purchases',hue='Gender',data=df)"
      ],
      "execution_count": 300,
      "outputs": [
        {
          "output_type": "execute_result",
          "data": {
            "text/plain": [
              "<matplotlib.axes._subplots.AxesSubplot at 0x7efd05c0e550>"
            ]
          },
          "metadata": {
            "tags": []
          },
          "execution_count": 300
        },
        {
          "output_type": "display_data",
          "data": {
            "image/png": "[encoded data removed]",
            "text/plain": [
              "<Figure size 432x288 with 1 Axes>"
            ]
          },
          "metadata": {
            "tags": []
          }
        }
      ]
    },
    {
      "cell_type": "code",
      "metadata": {
        "colab": {
          "base_uri": "https://localhost:8080/",
          "height": 305
        },
        "id": "ZoZmgaqobvY1",
        "outputId": "33e5b419-f329-4571-f9df-ecddd0de1778"
      },
      "source": [
        "sns.countplot(x='Customer_rating',hue='Gender',data=df)"
      ],
      "execution_count": 301,
      "outputs": [
        {
          "output_type": "execute_result",
          "data": {
            "text/plain": [
              "<matplotlib.axes._subplots.AxesSubplot at 0x7efd05b23150>"
            ]
          },
          "metadata": {
            "tags": []
          },
          "execution_count": 301
        },
        {
          "output_type": "display_data",
          "data": {
            "image/png": "[encoded data removed]",
            "text/plain": [
              "<Figure size 432x288 with 1 Axes>"
            ]
          },
          "metadata": {
            "tags": []
          }
        }
      ]
    },
    {
      "cell_type": "code",
      "metadata": {
        "colab": {
          "base_uri": "https://localhost:8080/",
          "height": 303
        },
        "id": "kDirJQwPcAl5",
        "outputId": "33ba09e7-c0ea-4e16-f0b4-3a7338e8ecb3"
      },
      "source": [
        "sns.countplot(x='Reached.on.Time_Y.N',hue='Gender',data=df)"
      ],
      "execution_count": 302,
      "outputs": [
        {
          "output_type": "execute_result",
          "data": {
            "text/plain": [
              "<matplotlib.axes._subplots.AxesSubplot at 0x7efd05b30b50>"
            ]
          },
          "metadata": {
            "tags": []
          },
          "execution_count": 302
        },
        {
          "output_type": "display_data",
          "data": {
            "image/png": "[encoded data removed]",
            "text/plain": [
              "<Figure size 432x288 with 1 Axes>"
            ]
          },
          "metadata": {
            "tags": []
          }
        }
      ]
    },
    {
      "cell_type": "code",
      "metadata": {
        "colab": {
          "base_uri": "https://localhost:8080/"
        },
        "id": "DNs13f55cN-J",
        "outputId": "ce941d5a-d258-43a8-9772-7bd8967ed940"
      },
      "source": [
        "df['Warehouse_block'].value_counts()"
      ],
      "execution_count": 303,
      "outputs": [
        {
          "output_type": "execute_result",
          "data": {
            "text/plain": [
              "F    3666\n",
              "D    1834\n",
              "C    1833\n",
              "A    1833\n",
              "B    1833\n",
              "Name: Warehouse_block, dtype: int64"
            ]
          },
          "metadata": {
            "tags": []
          },
          "execution_count": 303
        }
      ]
    },
    {
      "cell_type": "code",
      "metadata": {
        "colab": {
          "base_uri": "https://localhost:8080/",
          "height": 248
        },
        "id": "ws2zJvO2cii2",
        "outputId": "f58eaccc-d716-469a-e833-7db7aa16f333"
      },
      "source": [
        "warehouse = df['Warehouse_block'].value_counts()\n",
        "\n",
        "plot = warehouse.plot.pie(autopct='%1.0f%%')"
      ],
      "execution_count": 304,
      "outputs": [
        {
          "output_type": "display_data",
          "data": {
            "image/png": "[encoded data removed]",
            "text/plain": [
              "<Figure size 432x288 with 1 Axes>"
            ]
          },
          "metadata": {
            "tags": []
          }
        }
      ]
    },
    {
      "cell_type": "code",
      "metadata": {
        "colab": {
          "base_uri": "https://localhost:8080/"
        },
        "id": "gx1FA6I_gnIg",
        "outputId": "b062334e-1db3-48d9-ecd4-2b28f601bad2"
      },
      "source": [
        "df['Customer_rating'].value_counts()"
      ],
      "execution_count": 305,
      "outputs": [
        {
          "output_type": "execute_result",
          "data": {
            "text/plain": [
              "3    2239\n",
              "1    2235\n",
              "4    2189\n",
              "5    2171\n",
              "2    2165\n",
              "Name: Customer_rating, dtype: int64"
            ]
          },
          "metadata": {
            "tags": []
          },
          "execution_count": 305
        }
      ]
    },
    {
      "cell_type": "code",
      "metadata": {
        "colab": {
          "base_uri": "https://localhost:8080/",
          "height": 285
        },
        "id": "3WSmbNP-dSvu",
        "outputId": "be2e8ac3-5c8e-4a80-8b7e-8133ef52f361"
      },
      "source": [
        "call_rating = df['Customer_care_calls'].value_counts()\n",
        "\n",
        "sns.barplot(x=call_rating.index,y=call_rating.values,data=df)"
      ],
      "execution_count": 306,
      "outputs": [
        {
          "output_type": "execute_result",
          "data": {
            "text/plain": [
              "<matplotlib.axes._subplots.AxesSubplot at 0x7efd05a0a8d0>"
            ]
          },
          "metadata": {
            "tags": []
          },
          "execution_count": 306
        },
        {
          "output_type": "display_data",
          "data": {
            "image/png": "[encoded data removed]",
            "text/plain": [
              "<Figure size 432x288 with 1 Axes>"
            ]
          },
          "metadata": {
            "tags": []
          }
        }
      ]
    },
    {
      "cell_type": "code",
      "metadata": {
        "colab": {
          "base_uri": "https://localhost:8080/"
        },
        "id": "dTtbB_vQgzkK",
        "outputId": "95ac2485-4f77-4bc8-a6a5-309530204ad1"
      },
      "source": [
        "prior_purchase = df['Prior_purchases'].value_counts()\n",
        "print(prior_purchase)"
      ],
      "execution_count": 307,
      "outputs": [
        {
          "output_type": "stream",
          "text": [
            "3     3955\n",
            "2     2599\n",
            "4     2155\n",
            "5     1287\n",
            "6      561\n",
            "10     178\n",
            "7      136\n",
            "8      128\n",
            "Name: Prior_purchases, dtype: int64\n"
          ],
          "name": "stdout"
        }
      ]
    },
    {
      "cell_type": "code",
      "metadata": {
        "colab": {
          "base_uri": "https://localhost:8080/",
          "height": 285
        },
        "id": "yT1hBAlziDB3",
        "outputId": "edb8201d-8772-455f-e2fc-b9de68405c87"
      },
      "source": [
        "sns.barplot(x=prior_purchase.index,y=prior_purchase.values)"
      ],
      "execution_count": 308,
      "outputs": [
        {
          "output_type": "execute_result",
          "data": {
            "text/plain": [
              "<matplotlib.axes._subplots.AxesSubplot at 0x7efd05986450>"
            ]
          },
          "metadata": {
            "tags": []
          },
          "execution_count": 308
        },
        {
          "output_type": "display_data",
          "data": {
            "image/png": "[encoded data removed]",
            "text/plain": [
              "<Figure size 432x288 with 1 Axes>"
            ]
          },
          "metadata": {
            "tags": []
          }
        }
      ]
    },
    {
      "cell_type": "code",
      "metadata": {
        "colab": {
          "base_uri": "https://localhost:8080/"
        },
        "id": "xc18VgmjenSn",
        "outputId": "0025ec57-37b5-4d39-c9f1-d9c221ffed83"
      },
      "source": [
        "prod_imp = df['Product_importance'].value_counts()\n",
        "print(prod_imp)"
      ],
      "execution_count": 309,
      "outputs": [
        {
          "output_type": "stream",
          "text": [
            "low       5297\n",
            "medium    4754\n",
            "high       948\n",
            "Name: Product_importance, dtype: int64\n"
          ],
          "name": "stdout"
        }
      ]
    },
    {
      "cell_type": "code",
      "metadata": {
        "colab": {
          "base_uri": "https://localhost:8080/",
          "height": 285
        },
        "id": "wxYTZ9KyfHwN",
        "outputId": "6f14f1c8-0aa3-4203-c0b2-f0b554aba998"
      },
      "source": [
        "sns.barplot(x=prod_imp.index,y=prod_imp.values,data=df)"
      ],
      "execution_count": 310,
      "outputs": [
        {
          "output_type": "execute_result",
          "data": {
            "text/plain": [
              "<matplotlib.axes._subplots.AxesSubplot at 0x7efd059ff610>"
            ]
          },
          "metadata": {
            "tags": []
          },
          "execution_count": 310
        },
        {
          "output_type": "display_data",
          "data": {
            "image/png": "[encoded data removed]",
            "text/plain": [
              "<Figure size 432x288 with 1 Axes>"
            ]
          },
          "metadata": {
            "tags": []
          }
        }
      ]
    },
    {
      "cell_type": "code",
      "metadata": {
        "colab": {
          "base_uri": "https://localhost:8080/"
        },
        "id": "lUICm8tpft8r",
        "outputId": "42c5eead-13aa-469d-8b01-5732a6418b9b"
      },
      "source": [
        "reached_or_not = df['Reached.on.Time_Y.N'].value_counts()\n",
        "print(reached_or_not)"
      ],
      "execution_count": 311,
      "outputs": [
        {
          "output_type": "stream",
          "text": [
            "1    6563\n",
            "0    4436\n",
            "Name: Reached.on.Time_Y.N, dtype: int64\n"
          ],
          "name": "stdout"
        }
      ]
    },
    {
      "cell_type": "code",
      "metadata": {
        "colab": {
          "base_uri": "https://localhost:8080/",
          "height": 285
        },
        "id": "gJ1q28YLn9R7",
        "outputId": "8813a81d-5966-433a-a255-63437b2e45f0"
      },
      "source": [
        "sns.barplot(x=reached_or_not.index,y=reached_or_not.values)"
      ],
      "execution_count": 312,
      "outputs": [
        {
          "output_type": "execute_result",
          "data": {
            "text/plain": [
              "<matplotlib.axes._subplots.AxesSubplot at 0x7efd0586ecd0>"
            ]
          },
          "metadata": {
            "tags": []
          },
          "execution_count": 312
        },
        {
          "output_type": "display_data",
          "data": {
            "image/png": "[encoded data removed]",
            "text/plain": [
              "<Figure size 432x288 with 1 Axes>"
            ]
          },
          "metadata": {
            "tags": []
          }
        }
      ]
    },
    {
      "cell_type": "code",
      "metadata": {
        "colab": {
          "base_uri": "https://localhost:8080/",
          "height": 357
        },
        "id": "VLYj02ggjayY",
        "outputId": "5a0cd741-7df4-405f-ea4a-2b9f9d3d24e9"
      },
      "source": [
        "sns.distplot(df['Cost_of_the_Product'])"
      ],
      "execution_count": 313,
      "outputs": [
        {
          "output_type": "stream",
          "text": [
            "/usr/local/lib/python3.7/dist-packages/seaborn/distributions.py:2557: FutureWarning: `distplot` is a deprecated function and will be removed in a future version. Please adapt your code to use either `displot` (a figure-level function with similar flexibility) or `histplot` (an axes-level function for histograms).\n",
            "  warnings.warn(msg, FutureWarning)\n"
          ],
          "name": "stderr"
        },
        {
          "output_type": "execute_result",
          "data": {
            "text/plain": [
              "<matplotlib.axes._subplots.AxesSubplot at 0x7efd057e93d0>"
            ]
          },
          "metadata": {
            "tags": []
          },
          "execution_count": 313
        },
        {
          "output_type": "display_data",
          "data": {
            "image/png": "[encoded data removed]",
            "text/plain": [
              "<Figure size 432x288 with 1 Axes>"
            ]
          },
          "metadata": {
            "tags": []
          }
        }
      ]
    },
    {
      "cell_type": "code",
      "metadata": {
        "colab": {
          "base_uri": "https://localhost:8080/",
          "height": 357
        },
        "id": "JFDyqQ7kjy-9",
        "outputId": "2eb632be-6ff6-4db0-cad3-754a3fc00e98"
      },
      "source": [
        "sns.distplot(df['Discount_offered'])"
      ],
      "execution_count": 314,
      "outputs": [
        {
          "output_type": "stream",
          "text": [
            "/usr/local/lib/python3.7/dist-packages/seaborn/distributions.py:2557: FutureWarning: `distplot` is a deprecated function and will be removed in a future version. Please adapt your code to use either `displot` (a figure-level function with similar flexibility) or `histplot` (an axes-level function for histograms).\n",
            "  warnings.warn(msg, FutureWarning)\n"
          ],
          "name": "stderr"
        },
        {
          "output_type": "execute_result",
          "data": {
            "text/plain": [
              "<matplotlib.axes._subplots.AxesSubplot at 0x7efd05859890>"
            ]
          },
          "metadata": {
            "tags": []
          },
          "execution_count": 314
        },
        {
          "output_type": "display_data",
          "data": {
            "image/png": "[encoded data removed]",
            "text/plain": [
              "<Figure size 432x288 with 1 Axes>"
            ]
          },
          "metadata": {
            "tags": []
          }
        }
      ]
    },
    {
      "cell_type": "code",
      "metadata": {
        "colab": {
          "base_uri": "https://localhost:8080/"
        },
        "id": "PMe8_iTlkAOo",
        "outputId": "121da528-1557-4315-b2c3-29b79989b98e"
      },
      "source": [
        "df['Weight_in_gms'].value_counts()"
      ],
      "execution_count": 315,
      "outputs": [
        {
          "output_type": "execute_result",
          "data": {
            "text/plain": [
              "4883    12\n",
              "4314    10\n",
              "5672    10\n",
              "1005    10\n",
              "1145    10\n",
              "        ..\n",
              "1963     1\n",
              "1971     1\n",
              "1987     1\n",
              "4050     1\n",
              "2049     1\n",
              "Name: Weight_in_gms, Length: 4034, dtype: int64"
            ]
          },
          "metadata": {
            "tags": []
          },
          "execution_count": 315
        }
      ]
    },
    {
      "cell_type": "code",
      "metadata": {
        "colab": {
          "base_uri": "https://localhost:8080/",
          "height": 357
        },
        "id": "6tKzEgyhkSQV",
        "outputId": "1a1654d6-76c8-4a95-8553-15d37635808a"
      },
      "source": [
        "sns.distplot(df['Weight_in_gms'],bins=30)"
      ],
      "execution_count": 261,
      "outputs": [
        {
          "output_type": "stream",
          "text": [
            "/usr/local/lib/python3.7/dist-packages/seaborn/distributions.py:2557: FutureWarning: `distplot` is a deprecated function and will be removed in a future version. Please adapt your code to use either `displot` (a figure-level function with similar flexibility) or `histplot` (an axes-level function for histograms).\n",
            "  warnings.warn(msg, FutureWarning)\n"
          ],
          "name": "stderr"
        },
        {
          "output_type": "execute_result",
          "data": {
            "text/plain": [
              "<matplotlib.axes._subplots.AxesSubplot at 0x7efd066d5c10>"
            ]
          },
          "metadata": {
            "tags": []
          },
          "execution_count": 261
        },
        {
          "output_type": "display_data",
          "data": {
            "image/png": "[encoded data removed]",
            "text/plain": [
              "<Figure size 432x288 with 1 Axes>"
            ]
          },
          "metadata": {
            "tags": []
          }
        }
      ]
    },
    {
      "cell_type": "code",
      "metadata": {
        "colab": {
          "base_uri": "https://localhost:8080/",
          "height": 669
        },
        "id": "qffW5bWt6gZy",
        "outputId": "39850333-6fd8-4ae0-c49c-c2a5a330168c"
      },
      "source": [
        "plt.figure(figsize=(9,9))\n",
        "sns.heatmap(df.corr(),annot=True,linewidths=0.2,linecolor='black')"
      ],
      "execution_count": 318,
      "outputs": [
        {
          "output_type": "execute_result",
          "data": {
            "text/plain": [
              "<matplotlib.axes._subplots.AxesSubplot at 0x7efd05035610>"
            ]
          },
          "metadata": {
            "tags": []
          },
          "execution_count": 318
        },
        {
          "output_type": "display_data",
          "data": {
            "image/png": "[encoded data removed]",
            "text/plain": [
              "<Figure size 648x648 with 2 Axes>"
            ]
          },
          "metadata": {
            "tags": []
          }
        }
      ]
    },
    {
      "cell_type": "code",
      "metadata": {
        "colab": {
          "base_uri": "https://localhost:8080/",
          "height": 163
        },
        "id": "Dx5RDfzMmKGG",
        "outputId": "82509f6b-99aa-4cfb-f6af-5855560ea848"
      },
      "source": [
        "df.head(3)"
      ],
      "execution_count": 262,
      "outputs": [
        {
          "output_type": "execute_result",
          "data": {
            "text/html": [
              "<div>\n",
              "<style scoped>\n",
              "    .dataframe tbody tr th:only-of-type {\n",
              "        vertical-align: middle;\n",
              "    }\n",
              "\n",
              "    .dataframe tbody tr th {\n",
              "        vertical-align: top;\n",
              "    }\n",
              "\n",
              "    .dataframe thead th {\n",
              "        text-align: right;\n",
              "    }\n",
              "</style>\n",
              "<table border=\"1\" class=\"dataframe\">\n",
              "  <thead>\n",
              "    <tr style=\"text-align: right;\">\n",
              "      <th></th>\n",
              "      <th>ID</th>\n",
              "      <th>Warehouse_block</th>\n",
              "      <th>Mode_of_Shipment</th>\n",
              "      <th>Customer_care_calls</th>\n",
              "      <th>Customer_rating</th>\n",
              "      <th>Cost_of_the_Product</th>\n",
              "      <th>Prior_purchases</th>\n",
              "      <th>Product_importance</th>\n",
              "      <th>Gender</th>\n",
              "      <th>Discount_offered</th>\n",
              "      <th>Weight_in_gms</th>\n",
              "      <th>Reached.on.Time_Y.N</th>\n",
              "    </tr>\n",
              "  </thead>\n",
              "  <tbody>\n",
              "    <tr>\n",
              "      <th>0</th>\n",
              "      <td>1</td>\n",
              "      <td>D</td>\n",
              "      <td>Flight</td>\n",
              "      <td>4</td>\n",
              "      <td>2</td>\n",
              "      <td>177</td>\n",
              "      <td>3</td>\n",
              "      <td>low</td>\n",
              "      <td>F</td>\n",
              "      <td>44</td>\n",
              "      <td>1233</td>\n",
              "      <td>1</td>\n",
              "    </tr>\n",
              "    <tr>\n",
              "      <th>1</th>\n",
              "      <td>2</td>\n",
              "      <td>F</td>\n",
              "      <td>Flight</td>\n",
              "      <td>4</td>\n",
              "      <td>5</td>\n",
              "      <td>216</td>\n",
              "      <td>2</td>\n",
              "      <td>low</td>\n",
              "      <td>M</td>\n",
              "      <td>59</td>\n",
              "      <td>3088</td>\n",
              "      <td>1</td>\n",
              "    </tr>\n",
              "    <tr>\n",
              "      <th>2</th>\n",
              "      <td>3</td>\n",
              "      <td>A</td>\n",
              "      <td>Flight</td>\n",
              "      <td>2</td>\n",
              "      <td>2</td>\n",
              "      <td>183</td>\n",
              "      <td>4</td>\n",
              "      <td>low</td>\n",
              "      <td>M</td>\n",
              "      <td>48</td>\n",
              "      <td>3374</td>\n",
              "      <td>1</td>\n",
              "    </tr>\n",
              "  </tbody>\n",
              "</table>\n",
              "</div>"
            ],
            "text/plain": [
              "   ID Warehouse_block  ... Weight_in_gms  Reached.on.Time_Y.N\n",
              "0   1               D  ...          1233                    1\n",
              "1   2               F  ...          3088                    1\n",
              "2   3               A  ...          3374                    1\n",
              "\n",
              "[3 rows x 12 columns]"
            ]
          },
          "metadata": {
            "tags": []
          },
          "execution_count": 262
        }
      ]
    },
    {
      "cell_type": "code",
      "metadata": {
        "id": "M9S2OAJCmOrq"
      },
      "source": [
        "#Assigning dummy values.\n",
        "\n",
        "warehouse = df['Warehouse_block']\n",
        "warehouse = pd.get_dummies(warehouse,drop_first=True)\n",
        "\n",
        "mode_of_shipment = df['Mode_of_Shipment']\n",
        "mode_of_shipment = pd.get_dummies(mode_of_shipment,drop_first=True)"
      ],
      "execution_count": 277,
      "outputs": []
    },
    {
      "cell_type": "code",
      "metadata": {
        "id": "BkfwiU3K0Cux"
      },
      "source": [
        "#Replacing categorical values of product_importance and gender.\n",
        "\n",
        "df[\"Product_importance\"].replace({\"low\":0,\"medium\":1,\"high\":2},inplace=True)\n",
        "df[\"Gender\"].replace({'F':0,'M':1},inplace=True)"
      ],
      "execution_count": 278,
      "outputs": []
    },
    {
      "cell_type": "code",
      "metadata": {
        "id": "IO0CCEfN229r"
      },
      "source": [
        "#Dropping Id as we cant find any relevent information through it.\n",
        "#Dropping warehouse_block and Mode_of_shipment as we took thier dummy values to other variables\n",
        "\n",
        "df =  df.drop(['ID','Warehouse_block','Mode_of_Shipment'],axis=1)"
      ],
      "execution_count": 281,
      "outputs": []
    },
    {
      "cell_type": "code",
      "metadata": {
        "id": "41Csd9vxwMhf"
      },
      "source": [
        "#concatinating df and dummy_variables\n",
        "df1 = pd.concat([df,warehouse,mode_of_shipment],axis=1)"
      ],
      "execution_count": 282,
      "outputs": []
    },
    {
      "cell_type": "code",
      "metadata": {
        "colab": {
          "base_uri": "https://localhost:8080/",
          "height": 163
        },
        "id": "PMaUrK5Sxt6c",
        "outputId": "99c332f8-909f-4e1c-9267-d42485b8bd1e"
      },
      "source": [
        "df1.head(3)"
      ],
      "execution_count": 286,
      "outputs": [
        {
          "output_type": "execute_result",
          "data": {
            "text/html": [
              "<div>\n",
              "<style scoped>\n",
              "    .dataframe tbody tr th:only-of-type {\n",
              "        vertical-align: middle;\n",
              "    }\n",
              "\n",
              "    .dataframe tbody tr th {\n",
              "        vertical-align: top;\n",
              "    }\n",
              "\n",
              "    .dataframe thead th {\n",
              "        text-align: right;\n",
              "    }\n",
              "</style>\n",
              "<table border=\"1\" class=\"dataframe\">\n",
              "  <thead>\n",
              "    <tr style=\"text-align: right;\">\n",
              "      <th></th>\n",
              "      <th>Customer_care_calls</th>\n",
              "      <th>Customer_rating</th>\n",
              "      <th>Cost_of_the_Product</th>\n",
              "      <th>Prior_purchases</th>\n",
              "      <th>Product_importance</th>\n",
              "      <th>Gender</th>\n",
              "      <th>Discount_offered</th>\n",
              "      <th>Weight_in_gms</th>\n",
              "      <th>Reached.on.Time_Y.N</th>\n",
              "      <th>B</th>\n",
              "      <th>C</th>\n",
              "      <th>D</th>\n",
              "      <th>F</th>\n",
              "      <th>Road</th>\n",
              "      <th>Ship</th>\n",
              "    </tr>\n",
              "  </thead>\n",
              "  <tbody>\n",
              "    <tr>\n",
              "      <th>0</th>\n",
              "      <td>4</td>\n",
              "      <td>2</td>\n",
              "      <td>177</td>\n",
              "      <td>3</td>\n",
              "      <td>0</td>\n",
              "      <td>0</td>\n",
              "      <td>44</td>\n",
              "      <td>1233</td>\n",
              "      <td>1</td>\n",
              "      <td>0</td>\n",
              "      <td>0</td>\n",
              "      <td>1</td>\n",
              "      <td>0</td>\n",
              "      <td>0</td>\n",
              "      <td>0</td>\n",
              "    </tr>\n",
              "    <tr>\n",
              "      <th>1</th>\n",
              "      <td>4</td>\n",
              "      <td>5</td>\n",
              "      <td>216</td>\n",
              "      <td>2</td>\n",
              "      <td>0</td>\n",
              "      <td>1</td>\n",
              "      <td>59</td>\n",
              "      <td>3088</td>\n",
              "      <td>1</td>\n",
              "      <td>0</td>\n",
              "      <td>0</td>\n",
              "      <td>0</td>\n",
              "      <td>1</td>\n",
              "      <td>0</td>\n",
              "      <td>0</td>\n",
              "    </tr>\n",
              "    <tr>\n",
              "      <th>2</th>\n",
              "      <td>2</td>\n",
              "      <td>2</td>\n",
              "      <td>183</td>\n",
              "      <td>4</td>\n",
              "      <td>0</td>\n",
              "      <td>1</td>\n",
              "      <td>48</td>\n",
              "      <td>3374</td>\n",
              "      <td>1</td>\n",
              "      <td>0</td>\n",
              "      <td>0</td>\n",
              "      <td>0</td>\n",
              "      <td>0</td>\n",
              "      <td>0</td>\n",
              "      <td>0</td>\n",
              "    </tr>\n",
              "  </tbody>\n",
              "</table>\n",
              "</div>"
            ],
            "text/plain": [
              "   Customer_care_calls  Customer_rating  Cost_of_the_Product  ...  F  Road  Ship\n",
              "0                    4                2                  177  ...  0     0     0\n",
              "1                    4                5                  216  ...  1     0     0\n",
              "2                    2                2                  183  ...  0     0     0\n",
              "\n",
              "[3 rows x 15 columns]"
            ]
          },
          "metadata": {
            "tags": []
          },
          "execution_count": 286
        }
      ]
    },
    {
      "cell_type": "code",
      "metadata": {
        "id": "egBArPTZ5CTI"
      },
      "source": [
        "X = df1.drop('Reached.on.Time_Y.N',axis=1)\n",
        "y = df1['Reached.on.Time_Y.N']"
      ],
      "execution_count": 320,
      "outputs": []
    },
    {
      "cell_type": "markdown",
      "metadata": {
        "id": "5KbK6Qn287zl"
      },
      "source": [
        "***Splitting the data into train,test,split***"
      ]
    },
    {
      "cell_type": "code",
      "metadata": {
        "id": "vHjH8bNy81bD"
      },
      "source": [
        "from sklearn.model_selection import train_test_split"
      ],
      "execution_count": 321,
      "outputs": []
    },
    {
      "cell_type": "code",
      "metadata": {
        "id": "glKVKq6x86hs"
      },
      "source": [
        "X_train,X_test,y_train,y_test = train_test_split(X,y,test_size=0.3,random_state=42)"
      ],
      "execution_count": 322,
      "outputs": []
    },
    {
      "cell_type": "code",
      "metadata": {
        "colab": {
          "base_uri": "https://localhost:8080/"
        },
        "id": "YTTYcb9Q9Zx_",
        "outputId": "8a0c5232-5e48-4c27-e29b-86ff9a8d02be"
      },
      "source": [
        "print(X_train.shape)\n",
        "print(X_test.shape)"
      ],
      "execution_count": 323,
      "outputs": [
        {
          "output_type": "stream",
          "text": [
            "(7699, 14)\n",
            "(3300, 14)\n"
          ],
          "name": "stdout"
        }
      ]
    },
    {
      "cell_type": "markdown",
      "metadata": {
        "id": "T6Ol5RVs9x8t"
      },
      "source": [
        "Random Forest Classifier"
      ]
    },
    {
      "cell_type": "code",
      "metadata": {
        "id": "xU48OUgC9kYI"
      },
      "source": [
        "from sklearn.ensemble import RandomForestClassifier\n",
        "from sklearn import metrics\n",
        "from sklearn.metrics import classification_report,confusion_matrix"
      ],
      "execution_count": 334,
      "outputs": []
    },
    {
      "cell_type": "code",
      "metadata": {
        "colab": {
          "base_uri": "https://localhost:8080/"
        },
        "id": "A0SGKrSx-JNh",
        "outputId": "6ca45e0e-fd8e-459d-a431-06c367abfa5f"
      },
      "source": [
        "rfc = RandomForestClassifier()\n",
        "rfc.fit(X_train,y_train)"
      ],
      "execution_count": 335,
      "outputs": [
        {
          "output_type": "execute_result",
          "data": {
            "text/plain": [
              "RandomForestClassifier(bootstrap=True, ccp_alpha=0.0, class_weight=None,\n",
              "                       criterion='gini', max_depth=None, max_features='auto',\n",
              "                       max_leaf_nodes=None, max_samples=None,\n",
              "                       min_impurity_decrease=0.0, min_impurity_split=None,\n",
              "                       min_samples_leaf=1, min_samples_split=2,\n",
              "                       min_weight_fraction_leaf=0.0, n_estimators=100,\n",
              "                       n_jobs=None, oob_score=False, random_state=None,\n",
              "                       verbose=0, warm_start=False)"
            ]
          },
          "metadata": {
            "tags": []
          },
          "execution_count": 335
        }
      ]
    },
    {
      "cell_type": "code",
      "metadata": {
        "id": "jGEhmAAt-MKo"
      },
      "source": [
        "y_pred_rfc = rfc.predict(X_test)"
      ],
      "execution_count": 336,
      "outputs": []
    },
    {
      "cell_type": "code",
      "metadata": {
        "id": "OES_wXAZ-OaI"
      },
      "source": [
        "accuracy_rfc = metrics.accuracy_score(y_test,y_pred_rfc)"
      ],
      "execution_count": 337,
      "outputs": []
    },
    {
      "cell_type": "code",
      "metadata": {
        "colab": {
          "base_uri": "https://localhost:8080/"
        },
        "id": "R9VHz9fE-QtC",
        "outputId": "b93345ec-57bf-4a26-c54e-b2badf7e5dcb"
      },
      "source": [
        "accuracy_rfc"
      ],
      "execution_count": 338,
      "outputs": [
        {
          "output_type": "execute_result",
          "data": {
            "text/plain": [
              "0.6627272727272727"
            ]
          },
          "metadata": {
            "tags": []
          },
          "execution_count": 338
        }
      ]
    },
    {
      "cell_type": "code",
      "metadata": {
        "colab": {
          "base_uri": "https://localhost:8080/"
        },
        "id": "1DIYcZqE-hR7",
        "outputId": "8aa5606a-e219-4dc2-cd3d-d4222a7ee347"
      },
      "source": [
        "print(classification_report(y_test,y_pred_rfc))"
      ],
      "execution_count": 339,
      "outputs": [
        {
          "output_type": "stream",
          "text": [
            "              precision    recall  f1-score   support\n",
            "\n",
            "           0       0.56      0.70      0.62      1312\n",
            "           1       0.76      0.64      0.69      1988\n",
            "\n",
            "    accuracy                           0.66      3300\n",
            "   macro avg       0.66      0.67      0.66      3300\n",
            "weighted avg       0.68      0.66      0.67      3300\n",
            "\n"
          ],
          "name": "stdout"
        }
      ]
    },
    {
      "cell_type": "code",
      "metadata": {
        "id": "c9sbM_dA-lV7"
      },
      "source": [
        "cmm = confusion_matrix(y_test,y_pred_rfc)"
      ],
      "execution_count": 340,
      "outputs": []
    },
    {
      "cell_type": "code",
      "metadata": {
        "colab": {
          "base_uri": "https://localhost:8080/"
        },
        "id": "iOcjqolp-w3z",
        "outputId": "b259f7e7-0401-42db-d683-c8fc22094f58"
      },
      "source": [
        "cmm"
      ],
      "execution_count": 341,
      "outputs": [
        {
          "output_type": "execute_result",
          "data": {
            "text/plain": [
              "array([[ 923,  389],\n",
              "       [ 724, 1264]])"
            ]
          },
          "metadata": {
            "tags": []
          },
          "execution_count": 341
        }
      ]
    },
    {
      "cell_type": "code",
      "metadata": {
        "colab": {
          "base_uri": "https://localhost:8080/",
          "height": 357
        },
        "id": "eSMGOrh5-yOi",
        "outputId": "9ee9a452-4310-40a1-857d-83c7bc262af4"
      },
      "source": [
        "plt.figure(figsize=(10,5))\n",
        "sns.heatmap(cmm,annot=True,cmap='PuRd')\n",
        "plt.xlabel('Predicted')\n",
        "plt.ylabel('True')"
      ],
      "execution_count": 344,
      "outputs": [
        {
          "output_type": "execute_result",
          "data": {
            "text/plain": [
              "Text(66.5, 0.5, 'True')"
            ]
          },
          "metadata": {
            "tags": []
          },
          "execution_count": 344
        },
        {
          "output_type": "display_data",
          "data": {
            "image/png": "[encoded data removed]",
            "text/plain": [
              "<Figure size 720x360 with 2 Axes>"
            ]
          },
          "metadata": {
            "tags": []
          }
        }
      ]
    },
    {
      "cell_type": "markdown",
      "metadata": {
        "id": "xdUfqCHK-_tL"
      },
      "source": [
        "**Hyperparameter Tuning**"
      ]
    },
    {
      "cell_type": "code",
      "metadata": {
        "id": "cE3CbPz5-0Tk"
      },
      "source": [
        "from sklearn.model_selection import RandomizedSearchCV"
      ],
      "execution_count": 345,
      "outputs": []
    },
    {
      "cell_type": "code",
      "metadata": {
        "id": "PqzJtGEM_CmC"
      },
      "source": [
        "\n",
        "#Number of trees in random_forest\n",
        "n_estimators = [int(x) for x in np.linspace(start=100,stop=1400,num=12)]\n",
        "#Number of features to consider at every split\n",
        "max_features = ['auto','sqrt']\n",
        "#Maximim number of levels in tree\n",
        "max_depth = [int(x) for x in np.linspace(start=5,stop=30,num=6)]\n",
        "#Minimum number of samples required to split a node\n",
        "min_samples_split = [2,5,10,13,15,100]\n",
        "#Minimum number of samples required at each leaf node\n",
        "min_samples_leaf = [1,2,5,8,10]"
      ],
      "execution_count": 346,
      "outputs": []
    },
    {
      "cell_type": "code",
      "metadata": {
        "colab": {
          "base_uri": "https://localhost:8080/"
        },
        "id": "AjrPuD9y_Nwh",
        "outputId": "c0c25454-deb4-4a5f-e5a4-ca32117cde74"
      },
      "source": [
        "random_grid = {'n_estimators':n_estimators,\n",
        "               'max_features':max_features,\n",
        "               'max_depth':max_depth,\n",
        "               'min_samples_split':min_samples_split,\n",
        "               'min_samples_leaf':min_samples_leaf  \n",
        "              }\n",
        "\n",
        "print(random_grid)"
      ],
      "execution_count": 347,
      "outputs": [
        {
          "output_type": "stream",
          "text": [
            "{'n_estimators': [100, 218, 336, 454, 572, 690, 809, 927, 1045, 1163, 1281, 1400], 'max_features': ['auto', 'sqrt'], 'max_depth': [5, 10, 15, 20, 25, 30], 'min_samples_split': [2, 5, 10, 13, 15, 100], 'min_samples_leaf': [1, 2, 5, 8, 10]}\n"
          ],
          "name": "stdout"
        }
      ]
    },
    {
      "cell_type": "code",
      "metadata": {
        "id": "geKo2Fex_P-V"
      },
      "source": [
        "rfc1 = RandomForestClassifier()"
      ],
      "execution_count": 348,
      "outputs": []
    },
    {
      "cell_type": "code",
      "metadata": {
        "id": "IMx7LGio_UP-"
      },
      "source": [
        "rf_random = RandomizedSearchCV(estimator=rfc1,param_distributions=random_grid,n_iter=12,cv=25,verbose=2,random_state=42,n_jobs=1)"
      ],
      "execution_count": 349,
      "outputs": []
    },
    {
      "cell_type": "code",
      "metadata": {
        "colab": {
          "base_uri": "https://localhost:8080/"
        },
        "id": "AJOapgfv_VuY",
        "outputId": "d00708c0-3b42-4a4a-d786-aa4daf6a04a3"
      },
      "source": [
        "rf_random.fit(X_train,y_train)"
      ],
      "execution_count": 350,
      "outputs": [
        {
          "output_type": "stream",
          "text": [
            "Fitting 25 folds for each of 12 candidates, totalling 300 fits\n",
            "[CV] n_estimators=1045, min_samples_split=100, min_samples_leaf=2, max_features=auto, max_depth=10 \n"
          ],
          "name": "stdout"
        },
        {
          "output_type": "stream",
          "text": [
            "[Parallel(n_jobs=1)]: Using backend SequentialBackend with 1 concurrent workers.\n"
          ],
          "name": "stderr"
        },
        {
          "output_type": "stream",
          "text": [
            "[CV]  n_estimators=1045, min_samples_split=100, min_samples_leaf=2, max_features=auto, max_depth=10, total=   5.1s\n",
            "[CV] n_estimators=1045, min_samples_split=100, min_samples_leaf=2, max_features=auto, max_depth=10 \n"
          ],
          "name": "stdout"
        },
        {
          "output_type": "stream",
          "text": [
            "[Parallel(n_jobs=1)]: Done   1 out of   1 | elapsed:    5.1s remaining:    0.0s\n"
          ],
          "name": "stderr"
        },
        {
          "output_type": "stream",
          "text": [
            "[CV]  n_estimators=1045, min_samples_split=100, min_samples_leaf=2, max_features=auto, max_depth=10, total=   4.8s\n",
            "[CV] n_estimators=1045, min_samples_split=100, min_samples_leaf=2, max_features=auto, max_depth=10 \n",
            "[CV]  n_estimators=1045, min_samples_split=100, min_samples_leaf=2, max_features=auto, max_depth=10, total=   4.8s\n",
            "[CV] n_estimators=1045, min_samples_split=100, min_samples_leaf=2, max_features=auto, max_depth=10 \n",
            "[CV]  n_estimators=1045, min_samples_split=100, min_samples_leaf=2, max_features=auto, max_depth=10, total=   4.8s\n",
            "[CV] n_estimators=1045, min_samples_split=100, min_samples_leaf=2, max_features=auto, max_depth=10 \n",
            "[CV]  n_estimators=1045, min_samples_split=100, min_samples_leaf=2, max_features=auto, max_depth=10, total=   4.8s\n",
            "[CV] n_estimators=1045, min_samples_split=100, min_samples_leaf=2, max_features=auto, max_depth=10 \n",
            "[CV]  n_estimators=1045, min_samples_split=100, min_samples_leaf=2, max_features=auto, max_depth=10, total=   4.8s\n",
            "[CV] n_estimators=1045, min_samples_split=100, min_samples_leaf=2, max_features=auto, max_depth=10 \n",
            "[CV]  n_estimators=1045, min_samples_split=100, min_samples_leaf=2, max_features=auto, max_depth=10, total=   4.8s\n",
            "[CV] n_estimators=1045, min_samples_split=100, min_samples_leaf=2, max_features=auto, max_depth=10 \n",
            "[CV]  n_estimators=1045, min_samples_split=100, min_samples_leaf=2, max_features=auto, max_depth=10, total=   4.8s\n",
            "[CV] n_estimators=1045, min_samples_split=100, min_samples_leaf=2, max_features=auto, max_depth=10 \n",
            "[CV]  n_estimators=1045, min_samples_split=100, min_samples_leaf=2, max_features=auto, max_depth=10, total=   4.8s\n",
            "[CV] n_estimators=1045, min_samples_split=100, min_samples_leaf=2, max_features=auto, max_depth=10 \n",
            "[CV]  n_estimators=1045, min_samples_split=100, min_samples_leaf=2, max_features=auto, max_depth=10, total=   4.8s\n",
            "[CV] n_estimators=1045, min_samples_split=100, min_samples_leaf=2, max_features=auto, max_depth=10 \n",
            "[CV]  n_estimators=1045, min_samples_split=100, min_samples_leaf=2, max_features=auto, max_depth=10, total=   4.8s\n",
            "[CV] n_estimators=1045, min_samples_split=100, min_samples_leaf=2, max_features=auto, max_depth=10 \n",
            "[CV]  n_estimators=1045, min_samples_split=100, min_samples_leaf=2, max_features=auto, max_depth=10, total=   4.8s\n",
            "[CV] n_estimators=1045, min_samples_split=100, min_samples_leaf=2, max_features=auto, max_depth=10 \n",
            "[CV]  n_estimators=1045, min_samples_split=100, min_samples_leaf=2, max_features=auto, max_depth=10, total=   4.8s\n",
            "[CV] n_estimators=1045, min_samples_split=100, min_samples_leaf=2, max_features=auto, max_depth=10 \n",
            "[CV]  n_estimators=1045, min_samples_split=100, min_samples_leaf=2, max_features=auto, max_depth=10, total=   4.8s\n",
            "[CV] n_estimators=1045, min_samples_split=100, min_samples_leaf=2, max_features=auto, max_depth=10 \n",
            "[CV]  n_estimators=1045, min_samples_split=100, min_samples_leaf=2, max_features=auto, max_depth=10, total=   4.8s\n",
            "[CV] n_estimators=1045, min_samples_split=100, min_samples_leaf=2, max_features=auto, max_depth=10 \n",
            "[CV]  n_estimators=1045, min_samples_split=100, min_samples_leaf=2, max_features=auto, max_depth=10, total=   4.8s\n",
            "[CV] n_estimators=1045, min_samples_split=100, min_samples_leaf=2, max_features=auto, max_depth=10 \n",
            "[CV]  n_estimators=1045, min_samples_split=100, min_samples_leaf=2, max_features=auto, max_depth=10, total=   4.8s\n",
            "[CV] n_estimators=1045, min_samples_split=100, min_samples_leaf=2, max_features=auto, max_depth=10 \n",
            "[CV]  n_estimators=1045, min_samples_split=100, min_samples_leaf=2, max_features=auto, max_depth=10, total=   4.8s\n",
            "[CV] n_estimators=1045, min_samples_split=100, min_samples_leaf=2, max_features=auto, max_depth=10 \n",
            "[CV]  n_estimators=1045, min_samples_split=100, min_samples_leaf=2, max_features=auto, max_depth=10, total=   4.8s\n",
            "[CV] n_estimators=1045, min_samples_split=100, min_samples_leaf=2, max_features=auto, max_depth=10 \n",
            "[CV]  n_estimators=1045, min_samples_split=100, min_samples_leaf=2, max_features=auto, max_depth=10, total=   4.8s\n",
            "[CV] n_estimators=1045, min_samples_split=100, min_samples_leaf=2, max_features=auto, max_depth=10 \n",
            "[CV]  n_estimators=1045, min_samples_split=100, min_samples_leaf=2, max_features=auto, max_depth=10, total=   4.8s\n",
            "[CV] n_estimators=1045, min_samples_split=100, min_samples_leaf=2, max_features=auto, max_depth=10 \n",
            "[CV]  n_estimators=1045, min_samples_split=100, min_samples_leaf=2, max_features=auto, max_depth=10, total=   4.8s\n",
            "[CV] n_estimators=1045, min_samples_split=100, min_samples_leaf=2, max_features=auto, max_depth=10 \n",
            "[CV]  n_estimators=1045, min_samples_split=100, min_samples_leaf=2, max_features=auto, max_depth=10, total=   4.8s\n",
            "[CV] n_estimators=1045, min_samples_split=100, min_samples_leaf=2, max_features=auto, max_depth=10 \n",
            "[CV]  n_estimators=1045, min_samples_split=100, min_samples_leaf=2, max_features=auto, max_depth=10, total=   4.8s\n",
            "[CV] n_estimators=1045, min_samples_split=100, min_samples_leaf=2, max_features=auto, max_depth=10 \n",
            "[CV]  n_estimators=1045, min_samples_split=100, min_samples_leaf=2, max_features=auto, max_depth=10, total=   4.8s\n",
            "[CV] n_estimators=572, min_samples_split=10, min_samples_leaf=5, max_features=auto, max_depth=30 \n",
            "[CV]  n_estimators=572, min_samples_split=10, min_samples_leaf=5, max_features=auto, max_depth=30, total=   3.5s\n",
            "[CV] n_estimators=572, min_samples_split=10, min_samples_leaf=5, max_features=auto, max_depth=30 \n",
            "[CV]  n_estimators=572, min_samples_split=10, min_samples_leaf=5, max_features=auto, max_depth=30, total=   3.5s\n",
            "[CV] n_estimators=572, min_samples_split=10, min_samples_leaf=5, max_features=auto, max_depth=30 \n",
            "[CV]  n_estimators=572, min_samples_split=10, min_samples_leaf=5, max_features=auto, max_depth=30, total=   3.5s\n",
            "[CV] n_estimators=572, min_samples_split=10, min_samples_leaf=5, max_features=auto, max_depth=30 \n",
            "[CV]  n_estimators=572, min_samples_split=10, min_samples_leaf=5, max_features=auto, max_depth=30, total=   3.5s\n",
            "[CV] n_estimators=572, min_samples_split=10, min_samples_leaf=5, max_features=auto, max_depth=30 \n",
            "[CV]  n_estimators=572, min_samples_split=10, min_samples_leaf=5, max_features=auto, max_depth=30, total=   3.5s\n",
            "[CV] n_estimators=572, min_samples_split=10, min_samples_leaf=5, max_features=auto, max_depth=30 \n",
            "[CV]  n_estimators=572, min_samples_split=10, min_samples_leaf=5, max_features=auto, max_depth=30, total=   3.5s\n",
            "[CV] n_estimators=572, min_samples_split=10, min_samples_leaf=5, max_features=auto, max_depth=30 \n",
            "[CV]  n_estimators=572, min_samples_split=10, min_samples_leaf=5, max_features=auto, max_depth=30, total=   3.5s\n",
            "[CV] n_estimators=572, min_samples_split=10, min_samples_leaf=5, max_features=auto, max_depth=30 \n",
            "[CV]  n_estimators=572, min_samples_split=10, min_samples_leaf=5, max_features=auto, max_depth=30, total=   3.5s\n",
            "[CV] n_estimators=572, min_samples_split=10, min_samples_leaf=5, max_features=auto, max_depth=30 \n",
            "[CV]  n_estimators=572, min_samples_split=10, min_samples_leaf=5, max_features=auto, max_depth=30, total=   3.5s\n",
            "[CV] n_estimators=572, min_samples_split=10, min_samples_leaf=5, max_features=auto, max_depth=30 \n",
            "[CV]  n_estimators=572, min_samples_split=10, min_samples_leaf=5, max_features=auto, max_depth=30, total=   3.5s\n",
            "[CV] n_estimators=572, min_samples_split=10, min_samples_leaf=5, max_features=auto, max_depth=30 \n",
            "[CV]  n_estimators=572, min_samples_split=10, min_samples_leaf=5, max_features=auto, max_depth=30, total=   3.5s\n",
            "[CV] n_estimators=572, min_samples_split=10, min_samples_leaf=5, max_features=auto, max_depth=30 \n",
            "[CV]  n_estimators=572, min_samples_split=10, min_samples_leaf=5, max_features=auto, max_depth=30, total=   3.5s\n",
            "[CV] n_estimators=572, min_samples_split=10, min_samples_leaf=5, max_features=auto, max_depth=30 \n",
            "[CV]  n_estimators=572, min_samples_split=10, min_samples_leaf=5, max_features=auto, max_depth=30, total=   3.5s\n",
            "[CV] n_estimators=572, min_samples_split=10, min_samples_leaf=5, max_features=auto, max_depth=30 \n",
            "[CV]  n_estimators=572, min_samples_split=10, min_samples_leaf=5, max_features=auto, max_depth=30, total=   3.5s\n",
            "[CV] n_estimators=572, min_samples_split=10, min_samples_leaf=5, max_features=auto, max_depth=30 \n",
            "[CV]  n_estimators=572, min_samples_split=10, min_samples_leaf=5, max_features=auto, max_depth=30, total=   3.5s\n",
            "[CV] n_estimators=572, min_samples_split=10, min_samples_leaf=5, max_features=auto, max_depth=30 \n",
            "[CV]  n_estimators=572, min_samples_split=10, min_samples_leaf=5, max_features=auto, max_depth=30, total=   3.6s\n",
            "[CV] n_estimators=572, min_samples_split=10, min_samples_leaf=5, max_features=auto, max_depth=30 \n",
            "[CV]  n_estimators=572, min_samples_split=10, min_samples_leaf=5, max_features=auto, max_depth=30, total=   3.5s\n",
            "[CV] n_estimators=572, min_samples_split=10, min_samples_leaf=5, max_features=auto, max_depth=30 \n",
            "[CV]  n_estimators=572, min_samples_split=10, min_samples_leaf=5, max_features=auto, max_depth=30, total=   3.5s\n",
            "[CV] n_estimators=572, min_samples_split=10, min_samples_leaf=5, max_features=auto, max_depth=30 \n",
            "[CV]  n_estimators=572, min_samples_split=10, min_samples_leaf=5, max_features=auto, max_depth=30, total=   3.5s\n",
            "[CV] n_estimators=572, min_samples_split=10, min_samples_leaf=5, max_features=auto, max_depth=30 \n",
            "[CV]  n_estimators=572, min_samples_split=10, min_samples_leaf=5, max_features=auto, max_depth=30, total=   3.5s\n",
            "[CV] n_estimators=572, min_samples_split=10, min_samples_leaf=5, max_features=auto, max_depth=30 \n",
            "[CV]  n_estimators=572, min_samples_split=10, min_samples_leaf=5, max_features=auto, max_depth=30, total=   3.5s\n",
            "[CV] n_estimators=572, min_samples_split=10, min_samples_leaf=5, max_features=auto, max_depth=30 \n",
            "[CV]  n_estimators=572, min_samples_split=10, min_samples_leaf=5, max_features=auto, max_depth=30, total=   3.6s\n",
            "[CV] n_estimators=572, min_samples_split=10, min_samples_leaf=5, max_features=auto, max_depth=30 \n",
            "[CV]  n_estimators=572, min_samples_split=10, min_samples_leaf=5, max_features=auto, max_depth=30, total=   3.5s\n",
            "[CV] n_estimators=572, min_samples_split=10, min_samples_leaf=5, max_features=auto, max_depth=30 \n",
            "[CV]  n_estimators=572, min_samples_split=10, min_samples_leaf=5, max_features=auto, max_depth=30, total=   3.4s\n",
            "[CV] n_estimators=572, min_samples_split=10, min_samples_leaf=5, max_features=auto, max_depth=30 \n",
            "[CV]  n_estimators=572, min_samples_split=10, min_samples_leaf=5, max_features=auto, max_depth=30, total=   3.5s\n",
            "[CV] n_estimators=1045, min_samples_split=100, min_samples_leaf=5, max_features=auto, max_depth=25 \n",
            "[CV]  n_estimators=1045, min_samples_split=100, min_samples_leaf=5, max_features=auto, max_depth=25, total=   5.0s\n",
            "[CV] n_estimators=1045, min_samples_split=100, min_samples_leaf=5, max_features=auto, max_depth=25 \n",
            "[CV]  n_estimators=1045, min_samples_split=100, min_samples_leaf=5, max_features=auto, max_depth=25, total=   5.0s\n",
            "[CV] n_estimators=1045, min_samples_split=100, min_samples_leaf=5, max_features=auto, max_depth=25 \n",
            "[CV]  n_estimators=1045, min_samples_split=100, min_samples_leaf=5, max_features=auto, max_depth=25, total=   5.0s\n",
            "[CV] n_estimators=1045, min_samples_split=100, min_samples_leaf=5, max_features=auto, max_depth=25 \n",
            "[CV]  n_estimators=1045, min_samples_split=100, min_samples_leaf=5, max_features=auto, max_depth=25, total=   5.0s\n",
            "[CV] n_estimators=1045, min_samples_split=100, min_samples_leaf=5, max_features=auto, max_depth=25 \n",
            "[CV]  n_estimators=1045, min_samples_split=100, min_samples_leaf=5, max_features=auto, max_depth=25, total=   5.0s\n",
            "[CV] n_estimators=1045, min_samples_split=100, min_samples_leaf=5, max_features=auto, max_depth=25 \n",
            "[CV]  n_estimators=1045, min_samples_split=100, min_samples_leaf=5, max_features=auto, max_depth=25, total=   5.0s\n",
            "[CV] n_estimators=1045, min_samples_split=100, min_samples_leaf=5, max_features=auto, max_depth=25 \n",
            "[CV]  n_estimators=1045, min_samples_split=100, min_samples_leaf=5, max_features=auto, max_depth=25, total=   5.0s\n",
            "[CV] n_estimators=1045, min_samples_split=100, min_samples_leaf=5, max_features=auto, max_depth=25 \n",
            "[CV]  n_estimators=1045, min_samples_split=100, min_samples_leaf=5, max_features=auto, max_depth=25, total=   5.0s\n",
            "[CV] n_estimators=1045, min_samples_split=100, min_samples_leaf=5, max_features=auto, max_depth=25 \n",
            "[CV]  n_estimators=1045, min_samples_split=100, min_samples_leaf=5, max_features=auto, max_depth=25, total=   5.0s\n",
            "[CV] n_estimators=1045, min_samples_split=100, min_samples_leaf=5, max_features=auto, max_depth=25 \n",
            "[CV]  n_estimators=1045, min_samples_split=100, min_samples_leaf=5, max_features=auto, max_depth=25, total=   5.0s\n",
            "[CV] n_estimators=1045, min_samples_split=100, min_samples_leaf=5, max_features=auto, max_depth=25 \n",
            "[CV]  n_estimators=1045, min_samples_split=100, min_samples_leaf=5, max_features=auto, max_depth=25, total=   5.0s\n",
            "[CV] n_estimators=1045, min_samples_split=100, min_samples_leaf=5, max_features=auto, max_depth=25 \n",
            "[CV]  n_estimators=1045, min_samples_split=100, min_samples_leaf=5, max_features=auto, max_depth=25, total=   5.0s\n",
            "[CV] n_estimators=1045, min_samples_split=100, min_samples_leaf=5, max_features=auto, max_depth=25 \n",
            "[CV]  n_estimators=1045, min_samples_split=100, min_samples_leaf=5, max_features=auto, max_depth=25, total=   5.0s\n",
            "[CV] n_estimators=1045, min_samples_split=100, min_samples_leaf=5, max_features=auto, max_depth=25 \n",
            "[CV]  n_estimators=1045, min_samples_split=100, min_samples_leaf=5, max_features=auto, max_depth=25, total=   5.0s\n",
            "[CV] n_estimators=1045, min_samples_split=100, min_samples_leaf=5, max_features=auto, max_depth=25 \n",
            "[CV]  n_estimators=1045, min_samples_split=100, min_samples_leaf=5, max_features=auto, max_depth=25, total=   5.0s\n",
            "[CV] n_estimators=1045, min_samples_split=100, min_samples_leaf=5, max_features=auto, max_depth=25 \n",
            "[CV]  n_estimators=1045, min_samples_split=100, min_samples_leaf=5, max_features=auto, max_depth=25, total=   5.2s\n",
            "[CV] n_estimators=1045, min_samples_split=100, min_samples_leaf=5, max_features=auto, max_depth=25 \n",
            "[CV]  n_estimators=1045, min_samples_split=100, min_samples_leaf=5, max_features=auto, max_depth=25, total=   5.0s\n",
            "[CV] n_estimators=1045, min_samples_split=100, min_samples_leaf=5, max_features=auto, max_depth=25 \n",
            "[CV]  n_estimators=1045, min_samples_split=100, min_samples_leaf=5, max_features=auto, max_depth=25, total=   5.0s\n",
            "[CV] n_estimators=1045, min_samples_split=100, min_samples_leaf=5, max_features=auto, max_depth=25 \n",
            "[CV]  n_estimators=1045, min_samples_split=100, min_samples_leaf=5, max_features=auto, max_depth=25, total=   5.0s\n",
            "[CV] n_estimators=1045, min_samples_split=100, min_samples_leaf=5, max_features=auto, max_depth=25 \n",
            "[CV]  n_estimators=1045, min_samples_split=100, min_samples_leaf=5, max_features=auto, max_depth=25, total=   5.0s\n",
            "[CV] n_estimators=1045, min_samples_split=100, min_samples_leaf=5, max_features=auto, max_depth=25 \n",
            "[CV]  n_estimators=1045, min_samples_split=100, min_samples_leaf=5, max_features=auto, max_depth=25, total=   5.0s\n",
            "[CV] n_estimators=1045, min_samples_split=100, min_samples_leaf=5, max_features=auto, max_depth=25 \n",
            "[CV]  n_estimators=1045, min_samples_split=100, min_samples_leaf=5, max_features=auto, max_depth=25, total=   5.0s\n",
            "[CV] n_estimators=1045, min_samples_split=100, min_samples_leaf=5, max_features=auto, max_depth=25 \n",
            "[CV]  n_estimators=1045, min_samples_split=100, min_samples_leaf=5, max_features=auto, max_depth=25, total=   5.0s\n",
            "[CV] n_estimators=1045, min_samples_split=100, min_samples_leaf=5, max_features=auto, max_depth=25 \n",
            "[CV]  n_estimators=1045, min_samples_split=100, min_samples_leaf=5, max_features=auto, max_depth=25, total=   4.9s\n",
            "[CV] n_estimators=1045, min_samples_split=100, min_samples_leaf=5, max_features=auto, max_depth=25 \n",
            "[CV]  n_estimators=1045, min_samples_split=100, min_samples_leaf=5, max_features=auto, max_depth=25, total=   5.0s\n",
            "[CV] n_estimators=1281, min_samples_split=10, min_samples_leaf=2, max_features=sqrt, max_depth=5 \n",
            "[CV]  n_estimators=1281, min_samples_split=10, min_samples_leaf=2, max_features=sqrt, max_depth=5, total=   4.6s\n",
            "[CV] n_estimators=1281, min_samples_split=10, min_samples_leaf=2, max_features=sqrt, max_depth=5 \n",
            "[CV]  n_estimators=1281, min_samples_split=10, min_samples_leaf=2, max_features=sqrt, max_depth=5, total=   4.7s\n",
            "[CV] n_estimators=1281, min_samples_split=10, min_samples_leaf=2, max_features=sqrt, max_depth=5 \n",
            "[CV]  n_estimators=1281, min_samples_split=10, min_samples_leaf=2, max_features=sqrt, max_depth=5, total=   4.6s\n",
            "[CV] n_estimators=1281, min_samples_split=10, min_samples_leaf=2, max_features=sqrt, max_depth=5 \n",
            "[CV]  n_estimators=1281, min_samples_split=10, min_samples_leaf=2, max_features=sqrt, max_depth=5, total=   4.6s\n",
            "[CV] n_estimators=1281, min_samples_split=10, min_samples_leaf=2, max_features=sqrt, max_depth=5 \n",
            "[CV]  n_estimators=1281, min_samples_split=10, min_samples_leaf=2, max_features=sqrt, max_depth=5, total=   4.6s\n",
            "[CV] n_estimators=1281, min_samples_split=10, min_samples_leaf=2, max_features=sqrt, max_depth=5 \n",
            "[CV]  n_estimators=1281, min_samples_split=10, min_samples_leaf=2, max_features=sqrt, max_depth=5, total=   4.6s\n",
            "[CV] n_estimators=1281, min_samples_split=10, min_samples_leaf=2, max_features=sqrt, max_depth=5 \n",
            "[CV]  n_estimators=1281, min_samples_split=10, min_samples_leaf=2, max_features=sqrt, max_depth=5, total=   4.6s\n",
            "[CV] n_estimators=1281, min_samples_split=10, min_samples_leaf=2, max_features=sqrt, max_depth=5 \n",
            "[CV]  n_estimators=1281, min_samples_split=10, min_samples_leaf=2, max_features=sqrt, max_depth=5, total=   4.7s\n",
            "[CV] n_estimators=1281, min_samples_split=10, min_samples_leaf=2, max_features=sqrt, max_depth=5 \n",
            "[CV]  n_estimators=1281, min_samples_split=10, min_samples_leaf=2, max_features=sqrt, max_depth=5, total=   4.7s\n",
            "[CV] n_estimators=1281, min_samples_split=10, min_samples_leaf=2, max_features=sqrt, max_depth=5 \n",
            "[CV]  n_estimators=1281, min_samples_split=10, min_samples_leaf=2, max_features=sqrt, max_depth=5, total=   4.6s\n",
            "[CV] n_estimators=1281, min_samples_split=10, min_samples_leaf=2, max_features=sqrt, max_depth=5 \n",
            "[CV]  n_estimators=1281, min_samples_split=10, min_samples_leaf=2, max_features=sqrt, max_depth=5, total=   4.7s\n",
            "[CV] n_estimators=1281, min_samples_split=10, min_samples_leaf=2, max_features=sqrt, max_depth=5 \n",
            "[CV]  n_estimators=1281, min_samples_split=10, min_samples_leaf=2, max_features=sqrt, max_depth=5, total=   4.7s\n",
            "[CV] n_estimators=1281, min_samples_split=10, min_samples_leaf=2, max_features=sqrt, max_depth=5 \n",
            "[CV]  n_estimators=1281, min_samples_split=10, min_samples_leaf=2, max_features=sqrt, max_depth=5, total=   4.7s\n",
            "[CV] n_estimators=1281, min_samples_split=10, min_samples_leaf=2, max_features=sqrt, max_depth=5 \n",
            "[CV]  n_estimators=1281, min_samples_split=10, min_samples_leaf=2, max_features=sqrt, max_depth=5, total=   4.7s\n",
            "[CV] n_estimators=1281, min_samples_split=10, min_samples_leaf=2, max_features=sqrt, max_depth=5 \n",
            "[CV]  n_estimators=1281, min_samples_split=10, min_samples_leaf=2, max_features=sqrt, max_depth=5, total=   4.7s\n",
            "[CV] n_estimators=1281, min_samples_split=10, min_samples_leaf=2, max_features=sqrt, max_depth=5 \n",
            "[CV]  n_estimators=1281, min_samples_split=10, min_samples_leaf=2, max_features=sqrt, max_depth=5, total=   4.7s\n",
            "[CV] n_estimators=1281, min_samples_split=10, min_samples_leaf=2, max_features=sqrt, max_depth=5 \n",
            "[CV]  n_estimators=1281, min_samples_split=10, min_samples_leaf=2, max_features=sqrt, max_depth=5, total=   4.7s\n",
            "[CV] n_estimators=1281, min_samples_split=10, min_samples_leaf=2, max_features=sqrt, max_depth=5 \n",
            "[CV]  n_estimators=1281, min_samples_split=10, min_samples_leaf=2, max_features=sqrt, max_depth=5, total=   4.7s\n",
            "[CV] n_estimators=1281, min_samples_split=10, min_samples_leaf=2, max_features=sqrt, max_depth=5 \n",
            "[CV]  n_estimators=1281, min_samples_split=10, min_samples_leaf=2, max_features=sqrt, max_depth=5, total=   4.6s\n",
            "[CV] n_estimators=1281, min_samples_split=10, min_samples_leaf=2, max_features=sqrt, max_depth=5 \n",
            "[CV]  n_estimators=1281, min_samples_split=10, min_samples_leaf=2, max_features=sqrt, max_depth=5, total=   4.7s\n",
            "[CV] n_estimators=1281, min_samples_split=10, min_samples_leaf=2, max_features=sqrt, max_depth=5 \n",
            "[CV]  n_estimators=1281, min_samples_split=10, min_samples_leaf=2, max_features=sqrt, max_depth=5, total=   4.7s\n",
            "[CV] n_estimators=1281, min_samples_split=10, min_samples_leaf=2, max_features=sqrt, max_depth=5 \n",
            "[CV]  n_estimators=1281, min_samples_split=10, min_samples_leaf=2, max_features=sqrt, max_depth=5, total=   4.6s\n",
            "[CV] n_estimators=1281, min_samples_split=10, min_samples_leaf=2, max_features=sqrt, max_depth=5 \n",
            "[CV]  n_estimators=1281, min_samples_split=10, min_samples_leaf=2, max_features=sqrt, max_depth=5, total=   4.7s\n",
            "[CV] n_estimators=1281, min_samples_split=10, min_samples_leaf=2, max_features=sqrt, max_depth=5 \n",
            "[CV]  n_estimators=1281, min_samples_split=10, min_samples_leaf=2, max_features=sqrt, max_depth=5, total=   4.7s\n",
            "[CV] n_estimators=1281, min_samples_split=10, min_samples_leaf=2, max_features=sqrt, max_depth=5 \n",
            "[CV]  n_estimators=1281, min_samples_split=10, min_samples_leaf=2, max_features=sqrt, max_depth=5, total=   4.7s\n",
            "[CV] n_estimators=100, min_samples_split=100, min_samples_leaf=5, max_features=sqrt, max_depth=25 \n",
            "[CV]  n_estimators=100, min_samples_split=100, min_samples_leaf=5, max_features=sqrt, max_depth=25, total=   0.5s\n",
            "[CV] n_estimators=100, min_samples_split=100, min_samples_leaf=5, max_features=sqrt, max_depth=25 \n",
            "[CV]  n_estimators=100, min_samples_split=100, min_samples_leaf=5, max_features=sqrt, max_depth=25, total=   0.5s\n",
            "[CV] n_estimators=100, min_samples_split=100, min_samples_leaf=5, max_features=sqrt, max_depth=25 \n",
            "[CV]  n_estimators=100, min_samples_split=100, min_samples_leaf=5, max_features=sqrt, max_depth=25, total=   0.5s\n",
            "[CV] n_estimators=100, min_samples_split=100, min_samples_leaf=5, max_features=sqrt, max_depth=25 \n",
            "[CV]  n_estimators=100, min_samples_split=100, min_samples_leaf=5, max_features=sqrt, max_depth=25, total=   0.5s\n",
            "[CV] n_estimators=100, min_samples_split=100, min_samples_leaf=5, max_features=sqrt, max_depth=25 \n",
            "[CV]  n_estimators=100, min_samples_split=100, min_samples_leaf=5, max_features=sqrt, max_depth=25, total=   0.5s\n",
            "[CV] n_estimators=100, min_samples_split=100, min_samples_leaf=5, max_features=sqrt, max_depth=25 \n",
            "[CV]  n_estimators=100, min_samples_split=100, min_samples_leaf=5, max_features=sqrt, max_depth=25, total=   0.5s\n",
            "[CV] n_estimators=100, min_samples_split=100, min_samples_leaf=5, max_features=sqrt, max_depth=25 \n",
            "[CV]  n_estimators=100, min_samples_split=100, min_samples_leaf=5, max_features=sqrt, max_depth=25, total=   0.5s\n",
            "[CV] n_estimators=100, min_samples_split=100, min_samples_leaf=5, max_features=sqrt, max_depth=25 \n",
            "[CV]  n_estimators=100, min_samples_split=100, min_samples_leaf=5, max_features=sqrt, max_depth=25, total=   0.5s\n",
            "[CV] n_estimators=100, min_samples_split=100, min_samples_leaf=5, max_features=sqrt, max_depth=25 \n",
            "[CV]  n_estimators=100, min_samples_split=100, min_samples_leaf=5, max_features=sqrt, max_depth=25, total=   0.5s\n",
            "[CV] n_estimators=100, min_samples_split=100, min_samples_leaf=5, max_features=sqrt, max_depth=25 \n",
            "[CV]  n_estimators=100, min_samples_split=100, min_samples_leaf=5, max_features=sqrt, max_depth=25, total=   0.5s\n",
            "[CV] n_estimators=100, min_samples_split=100, min_samples_leaf=5, max_features=sqrt, max_depth=25 \n",
            "[CV]  n_estimators=100, min_samples_split=100, min_samples_leaf=5, max_features=sqrt, max_depth=25, total=   0.5s\n",
            "[CV] n_estimators=100, min_samples_split=100, min_samples_leaf=5, max_features=sqrt, max_depth=25 \n",
            "[CV]  n_estimators=100, min_samples_split=100, min_samples_leaf=5, max_features=sqrt, max_depth=25, total=   0.5s\n",
            "[CV] n_estimators=100, min_samples_split=100, min_samples_leaf=5, max_features=sqrt, max_depth=25 \n",
            "[CV]  n_estimators=100, min_samples_split=100, min_samples_leaf=5, max_features=sqrt, max_depth=25, total=   0.5s\n",
            "[CV] n_estimators=100, min_samples_split=100, min_samples_leaf=5, max_features=sqrt, max_depth=25 \n",
            "[CV]  n_estimators=100, min_samples_split=100, min_samples_leaf=5, max_features=sqrt, max_depth=25, total=   0.5s\n",
            "[CV] n_estimators=100, min_samples_split=100, min_samples_leaf=5, max_features=sqrt, max_depth=25 \n",
            "[CV]  n_estimators=100, min_samples_split=100, min_samples_leaf=5, max_features=sqrt, max_depth=25, total=   0.5s\n",
            "[CV] n_estimators=100, min_samples_split=100, min_samples_leaf=5, max_features=sqrt, max_depth=25 \n",
            "[CV]  n_estimators=100, min_samples_split=100, min_samples_leaf=5, max_features=sqrt, max_depth=25, total=   0.5s\n",
            "[CV] n_estimators=100, min_samples_split=100, min_samples_leaf=5, max_features=sqrt, max_depth=25 \n",
            "[CV]  n_estimators=100, min_samples_split=100, min_samples_leaf=5, max_features=sqrt, max_depth=25, total=   0.5s\n",
            "[CV] n_estimators=100, min_samples_split=100, min_samples_leaf=5, max_features=sqrt, max_depth=25 \n",
            "[CV]  n_estimators=100, min_samples_split=100, min_samples_leaf=5, max_features=sqrt, max_depth=25, total=   0.5s\n",
            "[CV] n_estimators=100, min_samples_split=100, min_samples_leaf=5, max_features=sqrt, max_depth=25 \n",
            "[CV]  n_estimators=100, min_samples_split=100, min_samples_leaf=5, max_features=sqrt, max_depth=25, total=   0.5s\n",
            "[CV] n_estimators=100, min_samples_split=100, min_samples_leaf=5, max_features=sqrt, max_depth=25 \n",
            "[CV]  n_estimators=100, min_samples_split=100, min_samples_leaf=5, max_features=sqrt, max_depth=25, total=   0.5s\n",
            "[CV] n_estimators=100, min_samples_split=100, min_samples_leaf=5, max_features=sqrt, max_depth=25 \n",
            "[CV]  n_estimators=100, min_samples_split=100, min_samples_leaf=5, max_features=sqrt, max_depth=25, total=   0.5s\n",
            "[CV] n_estimators=100, min_samples_split=100, min_samples_leaf=5, max_features=sqrt, max_depth=25 \n",
            "[CV]  n_estimators=100, min_samples_split=100, min_samples_leaf=5, max_features=sqrt, max_depth=25, total=   0.5s\n",
            "[CV] n_estimators=100, min_samples_split=100, min_samples_leaf=5, max_features=sqrt, max_depth=25 \n",
            "[CV]  n_estimators=100, min_samples_split=100, min_samples_leaf=5, max_features=sqrt, max_depth=25, total=   0.5s\n",
            "[CV] n_estimators=100, min_samples_split=100, min_samples_leaf=5, max_features=sqrt, max_depth=25 \n",
            "[CV]  n_estimators=100, min_samples_split=100, min_samples_leaf=5, max_features=sqrt, max_depth=25, total=   0.5s\n",
            "[CV] n_estimators=100, min_samples_split=100, min_samples_leaf=5, max_features=sqrt, max_depth=25 \n",
            "[CV]  n_estimators=100, min_samples_split=100, min_samples_leaf=5, max_features=sqrt, max_depth=25, total=   0.5s\n",
            "[CV] n_estimators=454, min_samples_split=2, min_samples_leaf=10, max_features=auto, max_depth=25 \n",
            "[CV]  n_estimators=454, min_samples_split=2, min_samples_leaf=10, max_features=auto, max_depth=25, total=   2.5s\n",
            "[CV] n_estimators=454, min_samples_split=2, min_samples_leaf=10, max_features=auto, max_depth=25 \n",
            "[CV]  n_estimators=454, min_samples_split=2, min_samples_leaf=10, max_features=auto, max_depth=25, total=   2.5s\n",
            "[CV] n_estimators=454, min_samples_split=2, min_samples_leaf=10, max_features=auto, max_depth=25 \n",
            "[CV]  n_estimators=454, min_samples_split=2, min_samples_leaf=10, max_features=auto, max_depth=25, total=   2.5s\n",
            "[CV] n_estimators=454, min_samples_split=2, min_samples_leaf=10, max_features=auto, max_depth=25 \n",
            "[CV]  n_estimators=454, min_samples_split=2, min_samples_leaf=10, max_features=auto, max_depth=25, total=   2.5s\n",
            "[CV] n_estimators=454, min_samples_split=2, min_samples_leaf=10, max_features=auto, max_depth=25 \n",
            "[CV]  n_estimators=454, min_samples_split=2, min_samples_leaf=10, max_features=auto, max_depth=25, total=   2.5s\n",
            "[CV] n_estimators=454, min_samples_split=2, min_samples_leaf=10, max_features=auto, max_depth=25 \n",
            "[CV]  n_estimators=454, min_samples_split=2, min_samples_leaf=10, max_features=auto, max_depth=25, total=   2.5s\n",
            "[CV] n_estimators=454, min_samples_split=2, min_samples_leaf=10, max_features=auto, max_depth=25 \n",
            "[CV]  n_estimators=454, min_samples_split=2, min_samples_leaf=10, max_features=auto, max_depth=25, total=   2.6s\n",
            "[CV] n_estimators=454, min_samples_split=2, min_samples_leaf=10, max_features=auto, max_depth=25 \n",
            "[CV]  n_estimators=454, min_samples_split=2, min_samples_leaf=10, max_features=auto, max_depth=25, total=   2.5s\n",
            "[CV] n_estimators=454, min_samples_split=2, min_samples_leaf=10, max_features=auto, max_depth=25 \n",
            "[CV]  n_estimators=454, min_samples_split=2, min_samples_leaf=10, max_features=auto, max_depth=25, total=   2.5s\n",
            "[CV] n_estimators=454, min_samples_split=2, min_samples_leaf=10, max_features=auto, max_depth=25 \n",
            "[CV]  n_estimators=454, min_samples_split=2, min_samples_leaf=10, max_features=auto, max_depth=25, total=   2.5s\n",
            "[CV] n_estimators=454, min_samples_split=2, min_samples_leaf=10, max_features=auto, max_depth=25 \n",
            "[CV]  n_estimators=454, min_samples_split=2, min_samples_leaf=10, max_features=auto, max_depth=25, total=   2.6s\n",
            "[CV] n_estimators=454, min_samples_split=2, min_samples_leaf=10, max_features=auto, max_depth=25 \n",
            "[CV]  n_estimators=454, min_samples_split=2, min_samples_leaf=10, max_features=auto, max_depth=25, total=   2.5s\n",
            "[CV] n_estimators=454, min_samples_split=2, min_samples_leaf=10, max_features=auto, max_depth=25 \n",
            "[CV]  n_estimators=454, min_samples_split=2, min_samples_leaf=10, max_features=auto, max_depth=25, total=   2.5s\n",
            "[CV] n_estimators=454, min_samples_split=2, min_samples_leaf=10, max_features=auto, max_depth=25 \n",
            "[CV]  n_estimators=454, min_samples_split=2, min_samples_leaf=10, max_features=auto, max_depth=25, total=   2.5s\n",
            "[CV] n_estimators=454, min_samples_split=2, min_samples_leaf=10, max_features=auto, max_depth=25 \n",
            "[CV]  n_estimators=454, min_samples_split=2, min_samples_leaf=10, max_features=auto, max_depth=25, total=   2.5s\n",
            "[CV] n_estimators=454, min_samples_split=2, min_samples_leaf=10, max_features=auto, max_depth=25 \n",
            "[CV]  n_estimators=454, min_samples_split=2, min_samples_leaf=10, max_features=auto, max_depth=25, total=   2.5s\n",
            "[CV] n_estimators=454, min_samples_split=2, min_samples_leaf=10, max_features=auto, max_depth=25 \n",
            "[CV]  n_estimators=454, min_samples_split=2, min_samples_leaf=10, max_features=auto, max_depth=25, total=   2.5s\n",
            "[CV] n_estimators=454, min_samples_split=2, min_samples_leaf=10, max_features=auto, max_depth=25 \n",
            "[CV]  n_estimators=454, min_samples_split=2, min_samples_leaf=10, max_features=auto, max_depth=25, total=   2.5s\n",
            "[CV] n_estimators=454, min_samples_split=2, min_samples_leaf=10, max_features=auto, max_depth=25 \n",
            "[CV]  n_estimators=454, min_samples_split=2, min_samples_leaf=10, max_features=auto, max_depth=25, total=   2.5s\n",
            "[CV] n_estimators=454, min_samples_split=2, min_samples_leaf=10, max_features=auto, max_depth=25 \n",
            "[CV]  n_estimators=454, min_samples_split=2, min_samples_leaf=10, max_features=auto, max_depth=25, total=   2.5s\n",
            "[CV] n_estimators=454, min_samples_split=2, min_samples_leaf=10, max_features=auto, max_depth=25 \n",
            "[CV]  n_estimators=454, min_samples_split=2, min_samples_leaf=10, max_features=auto, max_depth=25, total=   2.5s\n",
            "[CV] n_estimators=454, min_samples_split=2, min_samples_leaf=10, max_features=auto, max_depth=25 \n",
            "[CV]  n_estimators=454, min_samples_split=2, min_samples_leaf=10, max_features=auto, max_depth=25, total=   2.5s\n",
            "[CV] n_estimators=454, min_samples_split=2, min_samples_leaf=10, max_features=auto, max_depth=25 \n",
            "[CV]  n_estimators=454, min_samples_split=2, min_samples_leaf=10, max_features=auto, max_depth=25, total=   2.5s\n",
            "[CV] n_estimators=454, min_samples_split=2, min_samples_leaf=10, max_features=auto, max_depth=25 \n",
            "[CV]  n_estimators=454, min_samples_split=2, min_samples_leaf=10, max_features=auto, max_depth=25, total=   2.6s\n",
            "[CV] n_estimators=454, min_samples_split=2, min_samples_leaf=10, max_features=auto, max_depth=25 \n",
            "[CV]  n_estimators=454, min_samples_split=2, min_samples_leaf=10, max_features=auto, max_depth=25, total=   2.6s\n",
            "[CV] n_estimators=454, min_samples_split=13, min_samples_leaf=1, max_features=auto, max_depth=25 \n",
            "[CV]  n_estimators=454, min_samples_split=13, min_samples_leaf=1, max_features=auto, max_depth=25, total=   2.9s\n",
            "[CV] n_estimators=454, min_samples_split=13, min_samples_leaf=1, max_features=auto, max_depth=25 \n",
            "[CV]  n_estimators=454, min_samples_split=13, min_samples_leaf=1, max_features=auto, max_depth=25, total=   2.9s\n",
            "[CV] n_estimators=454, min_samples_split=13, min_samples_leaf=1, max_features=auto, max_depth=25 \n",
            "[CV]  n_estimators=454, min_samples_split=13, min_samples_leaf=1, max_features=auto, max_depth=25, total=   2.9s\n",
            "[CV] n_estimators=454, min_samples_split=13, min_samples_leaf=1, max_features=auto, max_depth=25 \n",
            "[CV]  n_estimators=454, min_samples_split=13, min_samples_leaf=1, max_features=auto, max_depth=25, total=   2.9s\n",
            "[CV] n_estimators=454, min_samples_split=13, min_samples_leaf=1, max_features=auto, max_depth=25 \n",
            "[CV]  n_estimators=454, min_samples_split=13, min_samples_leaf=1, max_features=auto, max_depth=25, total=   2.9s\n",
            "[CV] n_estimators=454, min_samples_split=13, min_samples_leaf=1, max_features=auto, max_depth=25 \n",
            "[CV]  n_estimators=454, min_samples_split=13, min_samples_leaf=1, max_features=auto, max_depth=25, total=   3.2s\n",
            "[CV] n_estimators=454, min_samples_split=13, min_samples_leaf=1, max_features=auto, max_depth=25 \n",
            "[CV]  n_estimators=454, min_samples_split=13, min_samples_leaf=1, max_features=auto, max_depth=25, total=   2.9s\n",
            "[CV] n_estimators=454, min_samples_split=13, min_samples_leaf=1, max_features=auto, max_depth=25 \n",
            "[CV]  n_estimators=454, min_samples_split=13, min_samples_leaf=1, max_features=auto, max_depth=25, total=   2.9s\n",
            "[CV] n_estimators=454, min_samples_split=13, min_samples_leaf=1, max_features=auto, max_depth=25 \n",
            "[CV]  n_estimators=454, min_samples_split=13, min_samples_leaf=1, max_features=auto, max_depth=25, total=   2.9s\n",
            "[CV] n_estimators=454, min_samples_split=13, min_samples_leaf=1, max_features=auto, max_depth=25 \n",
            "[CV]  n_estimators=454, min_samples_split=13, min_samples_leaf=1, max_features=auto, max_depth=25, total=   2.9s\n",
            "[CV] n_estimators=454, min_samples_split=13, min_samples_leaf=1, max_features=auto, max_depth=25 \n",
            "[CV]  n_estimators=454, min_samples_split=13, min_samples_leaf=1, max_features=auto, max_depth=25, total=   2.9s\n",
            "[CV] n_estimators=454, min_samples_split=13, min_samples_leaf=1, max_features=auto, max_depth=25 \n",
            "[CV]  n_estimators=454, min_samples_split=13, min_samples_leaf=1, max_features=auto, max_depth=25, total=   2.9s\n",
            "[CV] n_estimators=454, min_samples_split=13, min_samples_leaf=1, max_features=auto, max_depth=25 \n",
            "[CV]  n_estimators=454, min_samples_split=13, min_samples_leaf=1, max_features=auto, max_depth=25, total=   2.9s\n",
            "[CV] n_estimators=454, min_samples_split=13, min_samples_leaf=1, max_features=auto, max_depth=25 \n",
            "[CV]  n_estimators=454, min_samples_split=13, min_samples_leaf=1, max_features=auto, max_depth=25, total=   2.9s\n",
            "[CV] n_estimators=454, min_samples_split=13, min_samples_leaf=1, max_features=auto, max_depth=25 \n",
            "[CV]  n_estimators=454, min_samples_split=13, min_samples_leaf=1, max_features=auto, max_depth=25, total=   2.9s\n",
            "[CV] n_estimators=454, min_samples_split=13, min_samples_leaf=1, max_features=auto, max_depth=25 \n",
            "[CV]  n_estimators=454, min_samples_split=13, min_samples_leaf=1, max_features=auto, max_depth=25, total=   2.9s\n",
            "[CV] n_estimators=454, min_samples_split=13, min_samples_leaf=1, max_features=auto, max_depth=25 \n",
            "[CV]  n_estimators=454, min_samples_split=13, min_samples_leaf=1, max_features=auto, max_depth=25, total=   2.9s\n",
            "[CV] n_estimators=454, min_samples_split=13, min_samples_leaf=1, max_features=auto, max_depth=25 \n",
            "[CV]  n_estimators=454, min_samples_split=13, min_samples_leaf=1, max_features=auto, max_depth=25, total=   2.9s\n",
            "[CV] n_estimators=454, min_samples_split=13, min_samples_leaf=1, max_features=auto, max_depth=25 \n",
            "[CV]  n_estimators=454, min_samples_split=13, min_samples_leaf=1, max_features=auto, max_depth=25, total=   2.9s\n",
            "[CV] n_estimators=454, min_samples_split=13, min_samples_leaf=1, max_features=auto, max_depth=25 \n",
            "[CV]  n_estimators=454, min_samples_split=13, min_samples_leaf=1, max_features=auto, max_depth=25, total=   2.9s\n",
            "[CV] n_estimators=454, min_samples_split=13, min_samples_leaf=1, max_features=auto, max_depth=25 \n",
            "[CV]  n_estimators=454, min_samples_split=13, min_samples_leaf=1, max_features=auto, max_depth=25, total=   2.9s\n",
            "[CV] n_estimators=454, min_samples_split=13, min_samples_leaf=1, max_features=auto, max_depth=25 \n",
            "[CV]  n_estimators=454, min_samples_split=13, min_samples_leaf=1, max_features=auto, max_depth=25, total=   2.9s\n",
            "[CV] n_estimators=454, min_samples_split=13, min_samples_leaf=1, max_features=auto, max_depth=25 \n",
            "[CV]  n_estimators=454, min_samples_split=13, min_samples_leaf=1, max_features=auto, max_depth=25, total=   2.9s\n",
            "[CV] n_estimators=454, min_samples_split=13, min_samples_leaf=1, max_features=auto, max_depth=25 \n",
            "[CV]  n_estimators=454, min_samples_split=13, min_samples_leaf=1, max_features=auto, max_depth=25, total=   2.9s\n",
            "[CV] n_estimators=454, min_samples_split=13, min_samples_leaf=1, max_features=auto, max_depth=25 \n",
            "[CV]  n_estimators=454, min_samples_split=13, min_samples_leaf=1, max_features=auto, max_depth=25, total=   2.9s\n",
            "[CV] n_estimators=1281, min_samples_split=15, min_samples_leaf=2, max_features=auto, max_depth=5 \n",
            "[CV]  n_estimators=1281, min_samples_split=15, min_samples_leaf=2, max_features=auto, max_depth=5, total=   4.7s\n",
            "[CV] n_estimators=1281, min_samples_split=15, min_samples_leaf=2, max_features=auto, max_depth=5 \n",
            "[CV]  n_estimators=1281, min_samples_split=15, min_samples_leaf=2, max_features=auto, max_depth=5, total=   4.7s\n",
            "[CV] n_estimators=1281, min_samples_split=15, min_samples_leaf=2, max_features=auto, max_depth=5 \n",
            "[CV]  n_estimators=1281, min_samples_split=15, min_samples_leaf=2, max_features=auto, max_depth=5, total=   4.6s\n",
            "[CV] n_estimators=1281, min_samples_split=15, min_samples_leaf=2, max_features=auto, max_depth=5 \n",
            "[CV]  n_estimators=1281, min_samples_split=15, min_samples_leaf=2, max_features=auto, max_depth=5, total=   4.7s\n",
            "[CV] n_estimators=1281, min_samples_split=15, min_samples_leaf=2, max_features=auto, max_depth=5 \n",
            "[CV]  n_estimators=1281, min_samples_split=15, min_samples_leaf=2, max_features=auto, max_depth=5, total=   4.6s\n",
            "[CV] n_estimators=1281, min_samples_split=15, min_samples_leaf=2, max_features=auto, max_depth=5 \n",
            "[CV]  n_estimators=1281, min_samples_split=15, min_samples_leaf=2, max_features=auto, max_depth=5, total=   4.7s\n",
            "[CV] n_estimators=1281, min_samples_split=15, min_samples_leaf=2, max_features=auto, max_depth=5 \n",
            "[CV]  n_estimators=1281, min_samples_split=15, min_samples_leaf=2, max_features=auto, max_depth=5, total=   4.7s\n",
            "[CV] n_estimators=1281, min_samples_split=15, min_samples_leaf=2, max_features=auto, max_depth=5 \n",
            "[CV]  n_estimators=1281, min_samples_split=15, min_samples_leaf=2, max_features=auto, max_depth=5, total=   4.6s\n",
            "[CV] n_estimators=1281, min_samples_split=15, min_samples_leaf=2, max_features=auto, max_depth=5 \n",
            "[CV]  n_estimators=1281, min_samples_split=15, min_samples_leaf=2, max_features=auto, max_depth=5, total=   4.6s\n",
            "[CV] n_estimators=1281, min_samples_split=15, min_samples_leaf=2, max_features=auto, max_depth=5 \n",
            "[CV]  n_estimators=1281, min_samples_split=15, min_samples_leaf=2, max_features=auto, max_depth=5, total=   4.7s\n",
            "[CV] n_estimators=1281, min_samples_split=15, min_samples_leaf=2, max_features=auto, max_depth=5 \n",
            "[CV]  n_estimators=1281, min_samples_split=15, min_samples_leaf=2, max_features=auto, max_depth=5, total=   4.6s\n",
            "[CV] n_estimators=1281, min_samples_split=15, min_samples_leaf=2, max_features=auto, max_depth=5 \n",
            "[CV]  n_estimators=1281, min_samples_split=15, min_samples_leaf=2, max_features=auto, max_depth=5, total=   4.6s\n",
            "[CV] n_estimators=1281, min_samples_split=15, min_samples_leaf=2, max_features=auto, max_depth=5 \n",
            "[CV]  n_estimators=1281, min_samples_split=15, min_samples_leaf=2, max_features=auto, max_depth=5, total=   4.6s\n",
            "[CV] n_estimators=1281, min_samples_split=15, min_samples_leaf=2, max_features=auto, max_depth=5 \n",
            "[CV]  n_estimators=1281, min_samples_split=15, min_samples_leaf=2, max_features=auto, max_depth=5, total=   4.7s\n",
            "[CV] n_estimators=1281, min_samples_split=15, min_samples_leaf=2, max_features=auto, max_depth=5 \n",
            "[CV]  n_estimators=1281, min_samples_split=15, min_samples_leaf=2, max_features=auto, max_depth=5, total=   4.6s\n",
            "[CV] n_estimators=1281, min_samples_split=15, min_samples_leaf=2, max_features=auto, max_depth=5 \n",
            "[CV]  n_estimators=1281, min_samples_split=15, min_samples_leaf=2, max_features=auto, max_depth=5, total=   4.6s\n",
            "[CV] n_estimators=1281, min_samples_split=15, min_samples_leaf=2, max_features=auto, max_depth=5 \n",
            "[CV]  n_estimators=1281, min_samples_split=15, min_samples_leaf=2, max_features=auto, max_depth=5, total=   4.6s\n",
            "[CV] n_estimators=1281, min_samples_split=15, min_samples_leaf=2, max_features=auto, max_depth=5 \n",
            "[CV]  n_estimators=1281, min_samples_split=15, min_samples_leaf=2, max_features=auto, max_depth=5, total=   4.6s\n",
            "[CV] n_estimators=1281, min_samples_split=15, min_samples_leaf=2, max_features=auto, max_depth=5 \n",
            "[CV]  n_estimators=1281, min_samples_split=15, min_samples_leaf=2, max_features=auto, max_depth=5, total=   4.7s\n",
            "[CV] n_estimators=1281, min_samples_split=15, min_samples_leaf=2, max_features=auto, max_depth=5 \n",
            "[CV]  n_estimators=1281, min_samples_split=15, min_samples_leaf=2, max_features=auto, max_depth=5, total=   5.0s\n",
            "[CV] n_estimators=1281, min_samples_split=15, min_samples_leaf=2, max_features=auto, max_depth=5 \n",
            "[CV]  n_estimators=1281, min_samples_split=15, min_samples_leaf=2, max_features=auto, max_depth=5, total=   4.8s\n",
            "[CV] n_estimators=1281, min_samples_split=15, min_samples_leaf=2, max_features=auto, max_depth=5 \n",
            "[CV]  n_estimators=1281, min_samples_split=15, min_samples_leaf=2, max_features=auto, max_depth=5, total=   4.7s\n",
            "[CV] n_estimators=1281, min_samples_split=15, min_samples_leaf=2, max_features=auto, max_depth=5 \n",
            "[CV]  n_estimators=1281, min_samples_split=15, min_samples_leaf=2, max_features=auto, max_depth=5, total=   4.7s\n",
            "[CV] n_estimators=1281, min_samples_split=15, min_samples_leaf=2, max_features=auto, max_depth=5 \n",
            "[CV]  n_estimators=1281, min_samples_split=15, min_samples_leaf=2, max_features=auto, max_depth=5, total=   4.7s\n",
            "[CV] n_estimators=1281, min_samples_split=15, min_samples_leaf=2, max_features=auto, max_depth=5 \n",
            "[CV]  n_estimators=1281, min_samples_split=15, min_samples_leaf=2, max_features=auto, max_depth=5, total=   4.7s\n",
            "[CV] n_estimators=690, min_samples_split=10, min_samples_leaf=8, max_features=auto, max_depth=15 \n",
            "[CV]  n_estimators=690, min_samples_split=10, min_samples_leaf=8, max_features=auto, max_depth=15, total=   3.9s\n",
            "[CV] n_estimators=690, min_samples_split=10, min_samples_leaf=8, max_features=auto, max_depth=15 \n",
            "[CV]  n_estimators=690, min_samples_split=10, min_samples_leaf=8, max_features=auto, max_depth=15, total=   4.1s\n",
            "[CV] n_estimators=690, min_samples_split=10, min_samples_leaf=8, max_features=auto, max_depth=15 \n",
            "[CV]  n_estimators=690, min_samples_split=10, min_samples_leaf=8, max_features=auto, max_depth=15, total=   3.9s\n",
            "[CV] n_estimators=690, min_samples_split=10, min_samples_leaf=8, max_features=auto, max_depth=15 \n",
            "[CV]  n_estimators=690, min_samples_split=10, min_samples_leaf=8, max_features=auto, max_depth=15, total=   3.9s\n",
            "[CV] n_estimators=690, min_samples_split=10, min_samples_leaf=8, max_features=auto, max_depth=15 \n",
            "[CV]  n_estimators=690, min_samples_split=10, min_samples_leaf=8, max_features=auto, max_depth=15, total=   4.0s\n",
            "[CV] n_estimators=690, min_samples_split=10, min_samples_leaf=8, max_features=auto, max_depth=15 \n",
            "[CV]  n_estimators=690, min_samples_split=10, min_samples_leaf=8, max_features=auto, max_depth=15, total=   4.0s\n",
            "[CV] n_estimators=690, min_samples_split=10, min_samples_leaf=8, max_features=auto, max_depth=15 \n",
            "[CV]  n_estimators=690, min_samples_split=10, min_samples_leaf=8, max_features=auto, max_depth=15, total=   4.0s\n",
            "[CV] n_estimators=690, min_samples_split=10, min_samples_leaf=8, max_features=auto, max_depth=15 \n",
            "[CV]  n_estimators=690, min_samples_split=10, min_samples_leaf=8, max_features=auto, max_depth=15, total=   3.9s\n",
            "[CV] n_estimators=690, min_samples_split=10, min_samples_leaf=8, max_features=auto, max_depth=15 \n",
            "[CV]  n_estimators=690, min_samples_split=10, min_samples_leaf=8, max_features=auto, max_depth=15, total=   3.8s\n",
            "[CV] n_estimators=690, min_samples_split=10, min_samples_leaf=8, max_features=auto, max_depth=15 \n",
            "[CV]  n_estimators=690, min_samples_split=10, min_samples_leaf=8, max_features=auto, max_depth=15, total=   3.9s\n",
            "[CV] n_estimators=690, min_samples_split=10, min_samples_leaf=8, max_features=auto, max_depth=15 \n",
            "[CV]  n_estimators=690, min_samples_split=10, min_samples_leaf=8, max_features=auto, max_depth=15, total=   3.9s\n",
            "[CV] n_estimators=690, min_samples_split=10, min_samples_leaf=8, max_features=auto, max_depth=15 \n",
            "[CV]  n_estimators=690, min_samples_split=10, min_samples_leaf=8, max_features=auto, max_depth=15, total=   3.8s\n",
            "[CV] n_estimators=690, min_samples_split=10, min_samples_leaf=8, max_features=auto, max_depth=15 \n",
            "[CV]  n_estimators=690, min_samples_split=10, min_samples_leaf=8, max_features=auto, max_depth=15, total=   3.8s\n",
            "[CV] n_estimators=690, min_samples_split=10, min_samples_leaf=8, max_features=auto, max_depth=15 \n",
            "[CV]  n_estimators=690, min_samples_split=10, min_samples_leaf=8, max_features=auto, max_depth=15, total=   3.8s\n",
            "[CV] n_estimators=690, min_samples_split=10, min_samples_leaf=8, max_features=auto, max_depth=15 \n",
            "[CV]  n_estimators=690, min_samples_split=10, min_samples_leaf=8, max_features=auto, max_depth=15, total=   3.9s\n",
            "[CV] n_estimators=690, min_samples_split=10, min_samples_leaf=8, max_features=auto, max_depth=15 \n",
            "[CV]  n_estimators=690, min_samples_split=10, min_samples_leaf=8, max_features=auto, max_depth=15, total=   3.9s\n",
            "[CV] n_estimators=690, min_samples_split=10, min_samples_leaf=8, max_features=auto, max_depth=15 \n",
            "[CV]  n_estimators=690, min_samples_split=10, min_samples_leaf=8, max_features=auto, max_depth=15, total=   3.9s\n",
            "[CV] n_estimators=690, min_samples_split=10, min_samples_leaf=8, max_features=auto, max_depth=15 \n",
            "[CV]  n_estimators=690, min_samples_split=10, min_samples_leaf=8, max_features=auto, max_depth=15, total=   3.8s\n",
            "[CV] n_estimators=690, min_samples_split=10, min_samples_leaf=8, max_features=auto, max_depth=15 \n",
            "[CV]  n_estimators=690, min_samples_split=10, min_samples_leaf=8, max_features=auto, max_depth=15, total=   3.9s\n",
            "[CV] n_estimators=690, min_samples_split=10, min_samples_leaf=8, max_features=auto, max_depth=15 \n",
            "[CV]  n_estimators=690, min_samples_split=10, min_samples_leaf=8, max_features=auto, max_depth=15, total=   3.9s\n",
            "[CV] n_estimators=690, min_samples_split=10, min_samples_leaf=8, max_features=auto, max_depth=15 \n",
            "[CV]  n_estimators=690, min_samples_split=10, min_samples_leaf=8, max_features=auto, max_depth=15, total=   3.9s\n",
            "[CV] n_estimators=690, min_samples_split=10, min_samples_leaf=8, max_features=auto, max_depth=15 \n",
            "[CV]  n_estimators=690, min_samples_split=10, min_samples_leaf=8, max_features=auto, max_depth=15, total=   3.8s\n",
            "[CV] n_estimators=690, min_samples_split=10, min_samples_leaf=8, max_features=auto, max_depth=15 \n",
            "[CV]  n_estimators=690, min_samples_split=10, min_samples_leaf=8, max_features=auto, max_depth=15, total=   3.8s\n",
            "[CV] n_estimators=690, min_samples_split=10, min_samples_leaf=8, max_features=auto, max_depth=15 \n",
            "[CV]  n_estimators=690, min_samples_split=10, min_samples_leaf=8, max_features=auto, max_depth=15, total=   3.9s\n",
            "[CV] n_estimators=690, min_samples_split=10, min_samples_leaf=8, max_features=auto, max_depth=15 \n",
            "[CV]  n_estimators=690, min_samples_split=10, min_samples_leaf=8, max_features=auto, max_depth=15, total=   3.9s\n",
            "[CV] n_estimators=218, min_samples_split=15, min_samples_leaf=1, max_features=auto, max_depth=10 \n",
            "[CV]  n_estimators=218, min_samples_split=15, min_samples_leaf=1, max_features=auto, max_depth=10, total=   1.1s\n",
            "[CV] n_estimators=218, min_samples_split=15, min_samples_leaf=1, max_features=auto, max_depth=10 \n",
            "[CV]  n_estimators=218, min_samples_split=15, min_samples_leaf=1, max_features=auto, max_depth=10, total=   1.1s\n",
            "[CV] n_estimators=218, min_samples_split=15, min_samples_leaf=1, max_features=auto, max_depth=10 \n",
            "[CV]  n_estimators=218, min_samples_split=15, min_samples_leaf=1, max_features=auto, max_depth=10, total=   1.1s\n",
            "[CV] n_estimators=218, min_samples_split=15, min_samples_leaf=1, max_features=auto, max_depth=10 \n",
            "[CV]  n_estimators=218, min_samples_split=15, min_samples_leaf=1, max_features=auto, max_depth=10, total=   1.1s\n",
            "[CV] n_estimators=218, min_samples_split=15, min_samples_leaf=1, max_features=auto, max_depth=10 \n",
            "[CV]  n_estimators=218, min_samples_split=15, min_samples_leaf=1, max_features=auto, max_depth=10, total=   1.1s\n",
            "[CV] n_estimators=218, min_samples_split=15, min_samples_leaf=1, max_features=auto, max_depth=10 \n",
            "[CV]  n_estimators=218, min_samples_split=15, min_samples_leaf=1, max_features=auto, max_depth=10, total=   1.1s\n",
            "[CV] n_estimators=218, min_samples_split=15, min_samples_leaf=1, max_features=auto, max_depth=10 \n",
            "[CV]  n_estimators=218, min_samples_split=15, min_samples_leaf=1, max_features=auto, max_depth=10, total=   1.1s\n",
            "[CV] n_estimators=218, min_samples_split=15, min_samples_leaf=1, max_features=auto, max_depth=10 \n",
            "[CV]  n_estimators=218, min_samples_split=15, min_samples_leaf=1, max_features=auto, max_depth=10, total=   1.1s\n",
            "[CV] n_estimators=218, min_samples_split=15, min_samples_leaf=1, max_features=auto, max_depth=10 \n",
            "[CV]  n_estimators=218, min_samples_split=15, min_samples_leaf=1, max_features=auto, max_depth=10, total=   1.1s\n",
            "[CV] n_estimators=218, min_samples_split=15, min_samples_leaf=1, max_features=auto, max_depth=10 \n",
            "[CV]  n_estimators=218, min_samples_split=15, min_samples_leaf=1, max_features=auto, max_depth=10, total=   1.1s\n",
            "[CV] n_estimators=218, min_samples_split=15, min_samples_leaf=1, max_features=auto, max_depth=10 \n",
            "[CV]  n_estimators=218, min_samples_split=15, min_samples_leaf=1, max_features=auto, max_depth=10, total=   1.1s\n",
            "[CV] n_estimators=218, min_samples_split=15, min_samples_leaf=1, max_features=auto, max_depth=10 \n",
            "[CV]  n_estimators=218, min_samples_split=15, min_samples_leaf=1, max_features=auto, max_depth=10, total=   1.1s\n",
            "[CV] n_estimators=218, min_samples_split=15, min_samples_leaf=1, max_features=auto, max_depth=10 \n",
            "[CV]  n_estimators=218, min_samples_split=15, min_samples_leaf=1, max_features=auto, max_depth=10, total=   1.1s\n",
            "[CV] n_estimators=218, min_samples_split=15, min_samples_leaf=1, max_features=auto, max_depth=10 \n",
            "[CV]  n_estimators=218, min_samples_split=15, min_samples_leaf=1, max_features=auto, max_depth=10, total=   1.1s\n",
            "[CV] n_estimators=218, min_samples_split=15, min_samples_leaf=1, max_features=auto, max_depth=10 \n",
            "[CV]  n_estimators=218, min_samples_split=15, min_samples_leaf=1, max_features=auto, max_depth=10, total=   1.1s\n",
            "[CV] n_estimators=218, min_samples_split=15, min_samples_leaf=1, max_features=auto, max_depth=10 \n",
            "[CV]  n_estimators=218, min_samples_split=15, min_samples_leaf=1, max_features=auto, max_depth=10, total=   1.1s\n",
            "[CV] n_estimators=218, min_samples_split=15, min_samples_leaf=1, max_features=auto, max_depth=10 \n",
            "[CV]  n_estimators=218, min_samples_split=15, min_samples_leaf=1, max_features=auto, max_depth=10, total=   1.1s\n",
            "[CV] n_estimators=218, min_samples_split=15, min_samples_leaf=1, max_features=auto, max_depth=10 \n",
            "[CV]  n_estimators=218, min_samples_split=15, min_samples_leaf=1, max_features=auto, max_depth=10, total=   1.1s\n",
            "[CV] n_estimators=218, min_samples_split=15, min_samples_leaf=1, max_features=auto, max_depth=10 \n",
            "[CV]  n_estimators=218, min_samples_split=15, min_samples_leaf=1, max_features=auto, max_depth=10, total=   1.1s\n",
            "[CV] n_estimators=218, min_samples_split=15, min_samples_leaf=1, max_features=auto, max_depth=10 \n",
            "[CV]  n_estimators=218, min_samples_split=15, min_samples_leaf=1, max_features=auto, max_depth=10, total=   1.2s\n",
            "[CV] n_estimators=218, min_samples_split=15, min_samples_leaf=1, max_features=auto, max_depth=10 \n",
            "[CV]  n_estimators=218, min_samples_split=15, min_samples_leaf=1, max_features=auto, max_depth=10, total=   1.1s\n",
            "[CV] n_estimators=218, min_samples_split=15, min_samples_leaf=1, max_features=auto, max_depth=10 \n",
            "[CV]  n_estimators=218, min_samples_split=15, min_samples_leaf=1, max_features=auto, max_depth=10, total=   1.1s\n",
            "[CV] n_estimators=218, min_samples_split=15, min_samples_leaf=1, max_features=auto, max_depth=10 \n",
            "[CV]  n_estimators=218, min_samples_split=15, min_samples_leaf=1, max_features=auto, max_depth=10, total=   1.1s\n",
            "[CV] n_estimators=218, min_samples_split=15, min_samples_leaf=1, max_features=auto, max_depth=10 \n",
            "[CV]  n_estimators=218, min_samples_split=15, min_samples_leaf=1, max_features=auto, max_depth=10, total=   1.1s\n",
            "[CV] n_estimators=218, min_samples_split=15, min_samples_leaf=1, max_features=auto, max_depth=10 \n",
            "[CV]  n_estimators=218, min_samples_split=15, min_samples_leaf=1, max_features=auto, max_depth=10, total=   1.1s\n",
            "[CV] n_estimators=454, min_samples_split=5, min_samples_leaf=8, max_features=auto, max_depth=20 \n",
            "[CV]  n_estimators=454, min_samples_split=5, min_samples_leaf=8, max_features=auto, max_depth=20, total=   2.6s\n",
            "[CV] n_estimators=454, min_samples_split=5, min_samples_leaf=8, max_features=auto, max_depth=20 \n",
            "[CV]  n_estimators=454, min_samples_split=5, min_samples_leaf=8, max_features=auto, max_depth=20, total=   2.5s\n",
            "[CV] n_estimators=454, min_samples_split=5, min_samples_leaf=8, max_features=auto, max_depth=20 \n",
            "[CV]  n_estimators=454, min_samples_split=5, min_samples_leaf=8, max_features=auto, max_depth=20, total=   2.5s\n",
            "[CV] n_estimators=454, min_samples_split=5, min_samples_leaf=8, max_features=auto, max_depth=20 \n",
            "[CV]  n_estimators=454, min_samples_split=5, min_samples_leaf=8, max_features=auto, max_depth=20, total=   2.6s\n",
            "[CV] n_estimators=454, min_samples_split=5, min_samples_leaf=8, max_features=auto, max_depth=20 \n",
            "[CV]  n_estimators=454, min_samples_split=5, min_samples_leaf=8, max_features=auto, max_depth=20, total=   2.8s\n",
            "[CV] n_estimators=454, min_samples_split=5, min_samples_leaf=8, max_features=auto, max_depth=20 \n",
            "[CV]  n_estimators=454, min_samples_split=5, min_samples_leaf=8, max_features=auto, max_depth=20, total=   2.6s\n",
            "[CV] n_estimators=454, min_samples_split=5, min_samples_leaf=8, max_features=auto, max_depth=20 \n",
            "[CV]  n_estimators=454, min_samples_split=5, min_samples_leaf=8, max_features=auto, max_depth=20, total=   2.6s\n",
            "[CV] n_estimators=454, min_samples_split=5, min_samples_leaf=8, max_features=auto, max_depth=20 \n",
            "[CV]  n_estimators=454, min_samples_split=5, min_samples_leaf=8, max_features=auto, max_depth=20, total=   2.6s\n",
            "[CV] n_estimators=454, min_samples_split=5, min_samples_leaf=8, max_features=auto, max_depth=20 \n",
            "[CV]  n_estimators=454, min_samples_split=5, min_samples_leaf=8, max_features=auto, max_depth=20, total=   2.6s\n",
            "[CV] n_estimators=454, min_samples_split=5, min_samples_leaf=8, max_features=auto, max_depth=20 \n",
            "[CV]  n_estimators=454, min_samples_split=5, min_samples_leaf=8, max_features=auto, max_depth=20, total=   2.6s\n",
            "[CV] n_estimators=454, min_samples_split=5, min_samples_leaf=8, max_features=auto, max_depth=20 \n",
            "[CV]  n_estimators=454, min_samples_split=5, min_samples_leaf=8, max_features=auto, max_depth=20, total=   2.6s\n",
            "[CV] n_estimators=454, min_samples_split=5, min_samples_leaf=8, max_features=auto, max_depth=20 \n",
            "[CV]  n_estimators=454, min_samples_split=5, min_samples_leaf=8, max_features=auto, max_depth=20, total=   2.6s\n",
            "[CV] n_estimators=454, min_samples_split=5, min_samples_leaf=8, max_features=auto, max_depth=20 \n",
            "[CV]  n_estimators=454, min_samples_split=5, min_samples_leaf=8, max_features=auto, max_depth=20, total=   2.5s\n",
            "[CV] n_estimators=454, min_samples_split=5, min_samples_leaf=8, max_features=auto, max_depth=20 \n",
            "[CV]  n_estimators=454, min_samples_split=5, min_samples_leaf=8, max_features=auto, max_depth=20, total=   2.6s\n",
            "[CV] n_estimators=454, min_samples_split=5, min_samples_leaf=8, max_features=auto, max_depth=20 \n",
            "[CV]  n_estimators=454, min_samples_split=5, min_samples_leaf=8, max_features=auto, max_depth=20, total=   2.5s\n",
            "[CV] n_estimators=454, min_samples_split=5, min_samples_leaf=8, max_features=auto, max_depth=20 \n",
            "[CV]  n_estimators=454, min_samples_split=5, min_samples_leaf=8, max_features=auto, max_depth=20, total=   2.6s\n",
            "[CV] n_estimators=454, min_samples_split=5, min_samples_leaf=8, max_features=auto, max_depth=20 \n",
            "[CV]  n_estimators=454, min_samples_split=5, min_samples_leaf=8, max_features=auto, max_depth=20, total=   2.6s\n",
            "[CV] n_estimators=454, min_samples_split=5, min_samples_leaf=8, max_features=auto, max_depth=20 \n",
            "[CV]  n_estimators=454, min_samples_split=5, min_samples_leaf=8, max_features=auto, max_depth=20, total=   2.6s\n",
            "[CV] n_estimators=454, min_samples_split=5, min_samples_leaf=8, max_features=auto, max_depth=20 \n",
            "[CV]  n_estimators=454, min_samples_split=5, min_samples_leaf=8, max_features=auto, max_depth=20, total=   2.6s\n",
            "[CV] n_estimators=454, min_samples_split=5, min_samples_leaf=8, max_features=auto, max_depth=20 \n",
            "[CV]  n_estimators=454, min_samples_split=5, min_samples_leaf=8, max_features=auto, max_depth=20, total=   2.6s\n",
            "[CV] n_estimators=454, min_samples_split=5, min_samples_leaf=8, max_features=auto, max_depth=20 \n",
            "[CV]  n_estimators=454, min_samples_split=5, min_samples_leaf=8, max_features=auto, max_depth=20, total=   2.6s\n",
            "[CV] n_estimators=454, min_samples_split=5, min_samples_leaf=8, max_features=auto, max_depth=20 \n",
            "[CV]  n_estimators=454, min_samples_split=5, min_samples_leaf=8, max_features=auto, max_depth=20, total=   2.5s\n",
            "[CV] n_estimators=454, min_samples_split=5, min_samples_leaf=8, max_features=auto, max_depth=20 \n",
            "[CV]  n_estimators=454, min_samples_split=5, min_samples_leaf=8, max_features=auto, max_depth=20, total=   2.6s\n",
            "[CV] n_estimators=454, min_samples_split=5, min_samples_leaf=8, max_features=auto, max_depth=20 \n",
            "[CV]  n_estimators=454, min_samples_split=5, min_samples_leaf=8, max_features=auto, max_depth=20, total=   2.6s\n",
            "[CV] n_estimators=454, min_samples_split=5, min_samples_leaf=8, max_features=auto, max_depth=20 \n",
            "[CV]  n_estimators=454, min_samples_split=5, min_samples_leaf=8, max_features=auto, max_depth=20, total=   2.6s\n",
            "[CV] n_estimators=1163, min_samples_split=15, min_samples_leaf=8, max_features=auto, max_depth=20 \n",
            "[CV]  n_estimators=1163, min_samples_split=15, min_samples_leaf=8, max_features=auto, max_depth=20, total=   6.6s\n",
            "[CV] n_estimators=1163, min_samples_split=15, min_samples_leaf=8, max_features=auto, max_depth=20 \n",
            "[CV]  n_estimators=1163, min_samples_split=15, min_samples_leaf=8, max_features=auto, max_depth=20, total=   6.6s\n",
            "[CV] n_estimators=1163, min_samples_split=15, min_samples_leaf=8, max_features=auto, max_depth=20 \n",
            "[CV]  n_estimators=1163, min_samples_split=15, min_samples_leaf=8, max_features=auto, max_depth=20, total=   6.6s\n",
            "[CV] n_estimators=1163, min_samples_split=15, min_samples_leaf=8, max_features=auto, max_depth=20 \n",
            "[CV]  n_estimators=1163, min_samples_split=15, min_samples_leaf=8, max_features=auto, max_depth=20, total=   6.6s\n",
            "[CV] n_estimators=1163, min_samples_split=15, min_samples_leaf=8, max_features=auto, max_depth=20 \n",
            "[CV]  n_estimators=1163, min_samples_split=15, min_samples_leaf=8, max_features=auto, max_depth=20, total=   6.6s\n",
            "[CV] n_estimators=1163, min_samples_split=15, min_samples_leaf=8, max_features=auto, max_depth=20 \n",
            "[CV]  n_estimators=1163, min_samples_split=15, min_samples_leaf=8, max_features=auto, max_depth=20, total=   6.5s\n",
            "[CV] n_estimators=1163, min_samples_split=15, min_samples_leaf=8, max_features=auto, max_depth=20 \n",
            "[CV]  n_estimators=1163, min_samples_split=15, min_samples_leaf=8, max_features=auto, max_depth=20, total=   6.6s\n",
            "[CV] n_estimators=1163, min_samples_split=15, min_samples_leaf=8, max_features=auto, max_depth=20 \n",
            "[CV]  n_estimators=1163, min_samples_split=15, min_samples_leaf=8, max_features=auto, max_depth=20, total=   6.6s\n",
            "[CV] n_estimators=1163, min_samples_split=15, min_samples_leaf=8, max_features=auto, max_depth=20 \n",
            "[CV]  n_estimators=1163, min_samples_split=15, min_samples_leaf=8, max_features=auto, max_depth=20, total=   6.5s\n",
            "[CV] n_estimators=1163, min_samples_split=15, min_samples_leaf=8, max_features=auto, max_depth=20 \n",
            "[CV]  n_estimators=1163, min_samples_split=15, min_samples_leaf=8, max_features=auto, max_depth=20, total=   6.6s\n",
            "[CV] n_estimators=1163, min_samples_split=15, min_samples_leaf=8, max_features=auto, max_depth=20 \n",
            "[CV]  n_estimators=1163, min_samples_split=15, min_samples_leaf=8, max_features=auto, max_depth=20, total=   6.6s\n",
            "[CV] n_estimators=1163, min_samples_split=15, min_samples_leaf=8, max_features=auto, max_depth=20 \n",
            "[CV]  n_estimators=1163, min_samples_split=15, min_samples_leaf=8, max_features=auto, max_depth=20, total=   6.6s\n",
            "[CV] n_estimators=1163, min_samples_split=15, min_samples_leaf=8, max_features=auto, max_depth=20 \n",
            "[CV]  n_estimators=1163, min_samples_split=15, min_samples_leaf=8, max_features=auto, max_depth=20, total=   6.5s\n",
            "[CV] n_estimators=1163, min_samples_split=15, min_samples_leaf=8, max_features=auto, max_depth=20 \n",
            "[CV]  n_estimators=1163, min_samples_split=15, min_samples_leaf=8, max_features=auto, max_depth=20, total=   6.6s\n",
            "[CV] n_estimators=1163, min_samples_split=15, min_samples_leaf=8, max_features=auto, max_depth=20 \n",
            "[CV]  n_estimators=1163, min_samples_split=15, min_samples_leaf=8, max_features=auto, max_depth=20, total=   6.5s\n",
            "[CV] n_estimators=1163, min_samples_split=15, min_samples_leaf=8, max_features=auto, max_depth=20 \n",
            "[CV]  n_estimators=1163, min_samples_split=15, min_samples_leaf=8, max_features=auto, max_depth=20, total=   6.6s\n",
            "[CV] n_estimators=1163, min_samples_split=15, min_samples_leaf=8, max_features=auto, max_depth=20 \n",
            "[CV]  n_estimators=1163, min_samples_split=15, min_samples_leaf=8, max_features=auto, max_depth=20, total=   6.5s\n",
            "[CV] n_estimators=1163, min_samples_split=15, min_samples_leaf=8, max_features=auto, max_depth=20 \n",
            "[CV]  n_estimators=1163, min_samples_split=15, min_samples_leaf=8, max_features=auto, max_depth=20, total=   6.5s\n",
            "[CV] n_estimators=1163, min_samples_split=15, min_samples_leaf=8, max_features=auto, max_depth=20 \n",
            "[CV]  n_estimators=1163, min_samples_split=15, min_samples_leaf=8, max_features=auto, max_depth=20, total=   6.5s\n",
            "[CV] n_estimators=1163, min_samples_split=15, min_samples_leaf=8, max_features=auto, max_depth=20 \n",
            "[CV]  n_estimators=1163, min_samples_split=15, min_samples_leaf=8, max_features=auto, max_depth=20, total=   6.5s\n",
            "[CV] n_estimators=1163, min_samples_split=15, min_samples_leaf=8, max_features=auto, max_depth=20 \n",
            "[CV]  n_estimators=1163, min_samples_split=15, min_samples_leaf=8, max_features=auto, max_depth=20, total=   6.6s\n",
            "[CV] n_estimators=1163, min_samples_split=15, min_samples_leaf=8, max_features=auto, max_depth=20 \n",
            "[CV]  n_estimators=1163, min_samples_split=15, min_samples_leaf=8, max_features=auto, max_depth=20, total=   6.5s\n",
            "[CV] n_estimators=1163, min_samples_split=15, min_samples_leaf=8, max_features=auto, max_depth=20 \n",
            "[CV]  n_estimators=1163, min_samples_split=15, min_samples_leaf=8, max_features=auto, max_depth=20, total=   6.5s\n",
            "[CV] n_estimators=1163, min_samples_split=15, min_samples_leaf=8, max_features=auto, max_depth=20 \n",
            "[CV]  n_estimators=1163, min_samples_split=15, min_samples_leaf=8, max_features=auto, max_depth=20, total=   6.5s\n",
            "[CV] n_estimators=1163, min_samples_split=15, min_samples_leaf=8, max_features=auto, max_depth=20 \n",
            "[CV]  n_estimators=1163, min_samples_split=15, min_samples_leaf=8, max_features=auto, max_depth=20, total=   6.6s\n"
          ],
          "name": "stdout"
        },
        {
          "output_type": "stream",
          "text": [
            "[Parallel(n_jobs=1)]: Done 300 out of 300 | elapsed: 17.8min finished\n"
          ],
          "name": "stderr"
        },
        {
          "output_type": "execute_result",
          "data": {
            "text/plain": [
              "RandomizedSearchCV(cv=25, error_score=nan,\n",
              "                   estimator=RandomForestClassifier(bootstrap=True,\n",
              "                                                    ccp_alpha=0.0,\n",
              "                                                    class_weight=None,\n",
              "                                                    criterion='gini',\n",
              "                                                    max_depth=None,\n",
              "                                                    max_features='auto',\n",
              "                                                    max_leaf_nodes=None,\n",
              "                                                    max_samples=None,\n",
              "                                                    min_impurity_decrease=0.0,\n",
              "                                                    min_impurity_split=None,\n",
              "                                                    min_samples_leaf=1,\n",
              "                                                    min_samples_split=2,\n",
              "                                                    min_weight_fraction_leaf=0.0,\n",
              "                                                    n_estimators=100,\n",
              "                                                    n_job...\n",
              "                   iid='deprecated', n_iter=12, n_jobs=1,\n",
              "                   param_distributions={'max_depth': [5, 10, 15, 20, 25, 30],\n",
              "                                        'max_features': ['auto', 'sqrt'],\n",
              "                                        'min_samples_leaf': [1, 2, 5, 8, 10],\n",
              "                                        'min_samples_split': [2, 5, 10, 13, 15,\n",
              "                                                              100],\n",
              "                                        'n_estimators': [100, 218, 336, 454,\n",
              "                                                         572, 690, 809, 927,\n",
              "                                                         1045, 1163, 1281,\n",
              "                                                         1400]},\n",
              "                   pre_dispatch='2*n_jobs', random_state=42, refit=True,\n",
              "                   return_train_score=False, scoring=None, verbose=2)"
            ]
          },
          "metadata": {
            "tags": []
          },
          "execution_count": 350
        }
      ]
    },
    {
      "cell_type": "code",
      "metadata": {
        "id": "a1AAV4sb_XO4"
      },
      "source": [
        "predictions_cv = rf_random.predict(X_test)"
      ],
      "execution_count": 351,
      "outputs": []
    },
    {
      "cell_type": "code",
      "metadata": {
        "id": "TnUplXGdDpKO"
      },
      "source": [
        "accuracy_rfc_1 = metrics.accuracy_score(y_test,predictions_cv)"
      ],
      "execution_count": 352,
      "outputs": []
    },
    {
      "cell_type": "code",
      "metadata": {
        "colab": {
          "base_uri": "https://localhost:8080/"
        },
        "id": "GdgEAgIxDzzo",
        "outputId": "b45d1f43-ba2c-4ba2-9fb4-1e5e6b83f2be"
      },
      "source": [
        "accuracy_rfc_1"
      ],
      "execution_count": 353,
      "outputs": [
        {
          "output_type": "execute_result",
          "data": {
            "text/plain": [
              "0.6842424242424242"
            ]
          },
          "metadata": {
            "tags": []
          },
          "execution_count": 353
        }
      ]
    },
    {
      "cell_type": "code",
      "metadata": {
        "colab": {
          "base_uri": "https://localhost:8080/"
        },
        "id": "8hcI5fphD1fE",
        "outputId": "3ca7d5ad-1873-4a16-ce7d-ba88b405da0a"
      },
      "source": [
        "print(classification_report(y_test,predictions_cv))"
      ],
      "execution_count": 354,
      "outputs": [
        {
          "output_type": "stream",
          "text": [
            "              precision    recall  f1-score   support\n",
            "\n",
            "           0       0.56      0.90      0.69      1312\n",
            "           1       0.90      0.54      0.67      1988\n",
            "\n",
            "    accuracy                           0.68      3300\n",
            "   macro avg       0.73      0.72      0.68      3300\n",
            "weighted avg       0.76      0.68      0.68      3300\n",
            "\n"
          ],
          "name": "stdout"
        }
      ]
    },
    {
      "cell_type": "code",
      "metadata": {
        "id": "pID4EdsnD7Ue"
      },
      "source": [
        "cm = confusion_matrix(y_test,predictions_cv)"
      ],
      "execution_count": 355,
      "outputs": []
    },
    {
      "cell_type": "code",
      "metadata": {
        "colab": {
          "base_uri": "https://localhost:8080/"
        },
        "id": "n9IVOcz3D9Wn",
        "outputId": "ae56b381-0c49-4d49-8650-add11d14e4d4"
      },
      "source": [
        "cm"
      ],
      "execution_count": 356,
      "outputs": [
        {
          "output_type": "execute_result",
          "data": {
            "text/plain": [
              "array([[1187,  125],\n",
              "       [ 917, 1071]])"
            ]
          },
          "metadata": {
            "tags": []
          },
          "execution_count": 356
        }
      ]
    },
    {
      "cell_type": "code",
      "metadata": {
        "colab": {
          "base_uri": "https://localhost:8080/",
          "height": 357
        },
        "id": "JGJ2MCHVD_A0",
        "outputId": "4b079e40-1158-4f73-a353-62f35c789169"
      },
      "source": [
        "plt.figure(figsize=(10,5))\n",
        "sns.heatmap(cm,annot=True,cmap='inferno')\n",
        "plt.xlabel('Predicted')\n",
        "plt.ylabel('True')"
      ],
      "execution_count": 357,
      "outputs": [
        {
          "output_type": "execute_result",
          "data": {
            "text/plain": [
              "Text(66.5, 0.5, 'True')"
            ]
          },
          "metadata": {
            "tags": []
          },
          "execution_count": 357
        },
        {
          "output_type": "display_data",
          "data": {
            "image/png": "[encoded data removed]",
            "text/plain": [
              "<Figure size 720x360 with 2 Axes>"
            ]
          },
          "metadata": {
            "tags": []
          }
        }
      ]
    }
  ]
}